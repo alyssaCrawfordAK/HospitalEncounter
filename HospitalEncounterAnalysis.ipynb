{
 "cells": [
  {
   "cell_type": "code",
   "execution_count": 4,
   "id": "33aa7fca",
   "metadata": {},
   "outputs": [
    {
     "name": "stdout",
     "output_type": "stream",
     "text": [
      "       encounter_id  admission_date origin  service_line      loc    drg  \\\n",
      "0      5AP7T95R6HG6           44927    ED   Internal Med  GEN MED  392.0   \n",
      "1      UBE6BNHXJDV6           44927    ED   Internal Med  GEN MED  871.0   \n",
      "2      2G6U4ZHPWW5V           44927    ED   Internal Med  GEN MED  871.0   \n",
      "3      BSHAPPAB3YFC           44927    ED   Internal Med      PCU  871.0   \n",
      "4      V6XH3DEFDTTT           44927    ED   Internal Med  GEN MED  871.0   \n",
      "...             ...             ...    ...           ...      ...    ...   \n",
      "97430  X2TYH9DRWRTF           44926    ED   General Surg  GEN MED  329.0   \n",
      "97431  XX2DSDWPYSFV           44926     OR  General Surg  GEN MED  620.0   \n",
      "97432  FT45SDCNHD2T           44926     OR  General Surg       OR  329.0   \n",
      "97433  JXMF6KDSEQEN           44926     OR  General Surg       OR  620.0   \n",
      "97434  3CEFCQZSC5K4           44926     OR  General Surg  GEN MED  620.0   \n",
      "\n",
      "       discharge_date  patient_zipcode  \n",
      "0               44939            65072  \n",
      "1               44931            64742  \n",
      "2               44929            66524  \n",
      "3               44957            64150  \n",
      "4               44930            64097  \n",
      "...               ...              ...  \n",
      "97430           44927            64461  \n",
      "97431           44926            66071  \n",
      "97432           44926            66546  \n",
      "97433           44926            72722  \n",
      "97434           44926            65452  \n",
      "\n",
      "[97435 rows x 8 columns]\n"
     ]
    }
   ],
   "source": [
    "#import pandas the data analysis library for python\n",
    "import pandas as pd \n",
    "\n",
    "#upload excel file\n",
    "df = pd.read_excel(\"hospital_encounter_data_10_24.xlsx\") \n",
    "print(df)"
   ]
  },
  {
   "cell_type": "code",
   "execution_count": null,
   "id": "ecbca63e",
   "metadata": {},
   "outputs": [],
   "source": []
  },
  {
   "cell_type": "code",
   "execution_count": null,
   "id": "839ecba6",
   "metadata": {},
   "outputs": [],
   "source": []
  }
 ],
 "metadata": {
  "kernelspec": {
   "display_name": "Python 3 (ipykernel)",
   "language": "python",
   "name": "python3"
  },
  "language_info": {
   "codemirror_mode": {
    "name": "ipython",
    "version": 3
   },
   "file_extension": ".py",
   "mimetype": "text/x-python",
   "name": "python",
   "nbconvert_exporter": "python",
   "pygments_lexer": "ipython3",
   "version": "3.9.13"
  }
 },
 "nbformat": 4,
 "nbformat_minor": 5
}
