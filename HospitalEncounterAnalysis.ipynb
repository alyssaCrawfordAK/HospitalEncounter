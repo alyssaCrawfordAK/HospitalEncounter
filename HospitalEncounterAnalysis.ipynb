{
 "cells": [
  {
   "cell_type": "markdown",
   "id": "26edb6bb",
   "metadata": {},
   "source": [
    "# Hospital Encounter Analysis by Alyssa \n",
    "Data provided by ELVTR course Data Analysis in Healthcare"
   ]
  },
  {
   "cell_type": "markdown",
   "id": "44cb0571",
   "metadata": {},
   "source": [
    "## Data loading and preprocessing\n",
    "Let's start with loading and checking for duplicates, and missing data. After loading, I will review the number of rows, columns, and data types."
   ]
  },
  {
   "cell_type": "code",
   "execution_count": 2,
   "id": "2f22b272",
   "metadata": {},
   "outputs": [
    {
     "name": "stdout",
     "output_type": "stream",
     "text": [
      "   encounter_id  admission_date origin  service_line      loc    drg  \\\n",
      "0  5AP7T95R6HG6           44927    ED   Internal Med  GEN MED  392.0   \n",
      "1  UBE6BNHXJDV6           44927    ED   Internal Med  GEN MED  871.0   \n",
      "2  2G6U4ZHPWW5V           44927    ED   Internal Med  GEN MED  871.0   \n",
      "3  BSHAPPAB3YFC           44927    ED   Internal Med      PCU  871.0   \n",
      "4  V6XH3DEFDTTT           44927    ED   Internal Med  GEN MED  871.0   \n",
      "\n",
      "   discharge_date  patient_zipcode  \n",
      "0           44939            65072  \n",
      "1           44931            64742  \n",
      "2           44929            66524  \n",
      "3           44957            64150  \n",
      "4           44930            64097  \n"
     ]
    }
   ],
   "source": [
    "#import pandas the data analysis library for python\n",
    "import pandas as pd \n",
    "\n",
    "#upload excel file\n",
    "encdf = pd.read_excel(\"hospital_encounter_data_10_24AC.xlsx\")\n",
    "\n",
    "\n",
    "print(encdf.head())"
   ]
  },
  {
   "cell_type": "markdown",
   "id": "eb5114b4",
   "metadata": {},
   "source": [
    "##### The number of rows was 97,436. Let's check the upload went smoothly."
   ]
  },
  {
   "cell_type": "code",
   "execution_count": 3,
   "id": "5cdb5abf",
   "metadata": {},
   "outputs": [
    {
     "name": "stdout",
     "output_type": "stream",
     "text": [
      "<class 'pandas.core.frame.DataFrame'>\n",
      "RangeIndex: 97436 entries, 0 to 97435\n",
      "Data columns (total 8 columns):\n",
      " #   Column           Non-Null Count  Dtype  \n",
      "---  ------           --------------  -----  \n",
      " 0   encounter_id     97436 non-null  object \n",
      " 1   admission_date   97436 non-null  int64  \n",
      " 2   origin           97436 non-null  object \n",
      " 3   service_line     97436 non-null  object \n",
      " 4   loc              94512 non-null  object \n",
      " 5   drg              90616 non-null  float64\n",
      " 6   discharge_date   97436 non-null  int64  \n",
      " 7   patient_zipcode  97436 non-null  int64  \n",
      "dtypes: float64(1), int64(3), object(4)\n",
      "memory usage: 5.9+ MB\n"
     ]
    }
   ],
   "source": [
    "encdf.info()"
   ]
  },
  {
   "cell_type": "markdown",
   "id": "fb4cb203",
   "metadata": {},
   "source": [
    "##### Yup that is what we expected. The range index indicates 97,436 entries and 8 columns (note: python index starts wih 0). Some of the data types are not quite right, I'll fix that later on if it becomes important."
   ]
  },
  {
   "cell_type": "markdown",
   "id": "102ac640",
   "metadata": {},
   "source": [
    "## Check for duplicates\n",
    "Each row in the data set is a patient visit or encounter, and the column named 'encounter_id' is a unique identifer for the visit. Let's check this field for duplicates, we should not have any duplicates in this column."
   ]
  },
  {
   "cell_type": "code",
   "execution_count": 4,
   "id": "82c803af",
   "metadata": {},
   "outputs": [
    {
     "data": {
      "text/html": [
       "<div>\n",
       "<style scoped>\n",
       "    .dataframe tbody tr th:only-of-type {\n",
       "        vertical-align: middle;\n",
       "    }\n",
       "\n",
       "    .dataframe tbody tr th {\n",
       "        vertical-align: top;\n",
       "    }\n",
       "\n",
       "    .dataframe thead th {\n",
       "        text-align: right;\n",
       "    }\n",
       "</style>\n",
       "<table border=\"1\" class=\"dataframe\">\n",
       "  <thead>\n",
       "    <tr style=\"text-align: right;\">\n",
       "      <th></th>\n",
       "      <th>encounter_id</th>\n",
       "      <th>admission_date</th>\n",
       "      <th>origin</th>\n",
       "      <th>service_line</th>\n",
       "      <th>loc</th>\n",
       "      <th>drg</th>\n",
       "      <th>discharge_date</th>\n",
       "      <th>patient_zipcode</th>\n",
       "    </tr>\n",
       "  </thead>\n",
       "  <tbody>\n",
       "    <tr>\n",
       "      <th>97392</th>\n",
       "      <td>DS6U23ZNFMEE</td>\n",
       "      <td>44863</td>\n",
       "      <td>OR</td>\n",
       "      <td>General Surg</td>\n",
       "      <td>NaN</td>\n",
       "      <td>621.0</td>\n",
       "      <td>44863</td>\n",
       "      <td>66023</td>\n",
       "    </tr>\n",
       "    <tr>\n",
       "      <th>97435</th>\n",
       "      <td>DS6U23ZNFMEE</td>\n",
       "      <td>44863</td>\n",
       "      <td>OR</td>\n",
       "      <td>General Surg</td>\n",
       "      <td>NaN</td>\n",
       "      <td>621.0</td>\n",
       "      <td>44863</td>\n",
       "      <td>66023</td>\n",
       "    </tr>\n",
       "  </tbody>\n",
       "</table>\n",
       "</div>"
      ],
      "text/plain": [
       "       encounter_id  admission_date origin  service_line  loc    drg  \\\n",
       "97392  DS6U23ZNFMEE           44863     OR  General Surg  NaN  621.0   \n",
       "97435  DS6U23ZNFMEE           44863     OR  General Surg  NaN  621.0   \n",
       "\n",
       "       discharge_date  patient_zipcode  \n",
       "97392           44863            66023  \n",
       "97435           44863            66023  "
      ]
     },
     "execution_count": 4,
     "metadata": {},
     "output_type": "execute_result"
    }
   ],
   "source": [
    "#duplicate method returns boolean list, named argument keep=False will mark all dups\n",
    "encdf[encdf.duplicated(subset=[\"encounter_id\"], keep=False)]"
   ]
  },
  {
   "cell_type": "markdown",
   "id": "698ff3b9",
   "metadata": {},
   "source": [
    "We caught a duplicate that appears to be identical! Let's clean this up by dropping the last row index 97435, check for duplicates, and check the number of rows. "
   ]
  },
  {
   "cell_type": "code",
   "execution_count": 5,
   "id": "1c452378",
   "metadata": {},
   "outputs": [
    {
     "name": "stdout",
     "output_type": "stream",
     "text": [
      "Empty DataFrame\n",
      "Columns: [encounter_id, admission_date, origin, service_line, loc, drg, discharge_date, patient_zipcode]\n",
      "Index: []\n",
      "new number of rows: 97435\n"
     ]
    }
   ],
   "source": [
    "#drop method \n",
    "encdf2 = encdf.drop([97435])\n",
    "\n",
    "print(encdf2[encdf2.duplicated(subset=[\"encounter_id\"], keep=False)])\n",
    "\n",
    "print(\"new number of rows: \" + str(len(encdf2)))"
   ]
  },
  {
   "cell_type": "markdown",
   "id": "a936b83e",
   "metadata": {},
   "source": [
    "## Check for missing values\n",
    "The columns of \"loc\" and \"drg\" having missing values. It's best to discuss with a data owner if they have more information on why the values are missing. We will not be using these columns for our analysis, and we can ignore for now."
   ]
  },
  {
   "cell_type": "code",
   "execution_count": 6,
   "id": "60c02a75",
   "metadata": {},
   "outputs": [
    {
     "name": "stdout",
     "output_type": "stream",
     "text": [
      "encounter_id       False\n",
      "admission_date     False\n",
      "origin             False\n",
      "service_line       False\n",
      "loc                 True\n",
      "drg                 True\n",
      "discharge_date     False\n",
      "patient_zipcode    False\n",
      "dtype: bool\n"
     ]
    }
   ],
   "source": [
    "print( encdf2.isna().any() )"
   ]
  },
  {
   "cell_type": "markdown",
   "id": "6685355f",
   "metadata": {},
   "source": [
    "## Calculate new measure called length of stay\n",
    "#### Length of stay at the hosptial is the metric of interest, and calculated by taking the difference between the admission date and discharge date. \n",
    "\n",
    "#### The dates references Excel's origin date January 1, 1900 is day 1. Let's convert to the typical calendar that we use."
   ]
  },
  {
   "cell_type": "code",
   "execution_count": 7,
   "id": "197bede3",
   "metadata": {},
   "outputs": [
    {
     "data": {
      "text/html": [
       "<div>\n",
       "<style scoped>\n",
       "    .dataframe tbody tr th:only-of-type {\n",
       "        vertical-align: middle;\n",
       "    }\n",
       "\n",
       "    .dataframe tbody tr th {\n",
       "        vertical-align: top;\n",
       "    }\n",
       "\n",
       "    .dataframe thead th {\n",
       "        text-align: right;\n",
       "    }\n",
       "</style>\n",
       "<table border=\"1\" class=\"dataframe\">\n",
       "  <thead>\n",
       "    <tr style=\"text-align: right;\">\n",
       "      <th></th>\n",
       "      <th>admission_date</th>\n",
       "      <th>discharge_date</th>\n",
       "    </tr>\n",
       "  </thead>\n",
       "  <tbody>\n",
       "    <tr>\n",
       "      <th>0</th>\n",
       "      <td>44927</td>\n",
       "      <td>44939</td>\n",
       "    </tr>\n",
       "    <tr>\n",
       "      <th>1</th>\n",
       "      <td>44927</td>\n",
       "      <td>44931</td>\n",
       "    </tr>\n",
       "    <tr>\n",
       "      <th>2</th>\n",
       "      <td>44927</td>\n",
       "      <td>44929</td>\n",
       "    </tr>\n",
       "    <tr>\n",
       "      <th>3</th>\n",
       "      <td>44927</td>\n",
       "      <td>44957</td>\n",
       "    </tr>\n",
       "    <tr>\n",
       "      <th>4</th>\n",
       "      <td>44927</td>\n",
       "      <td>44930</td>\n",
       "    </tr>\n",
       "    <tr>\n",
       "      <th>...</th>\n",
       "      <td>...</td>\n",
       "      <td>...</td>\n",
       "    </tr>\n",
       "    <tr>\n",
       "      <th>97430</th>\n",
       "      <td>44926</td>\n",
       "      <td>44927</td>\n",
       "    </tr>\n",
       "    <tr>\n",
       "      <th>97431</th>\n",
       "      <td>44926</td>\n",
       "      <td>44926</td>\n",
       "    </tr>\n",
       "    <tr>\n",
       "      <th>97432</th>\n",
       "      <td>44926</td>\n",
       "      <td>44926</td>\n",
       "    </tr>\n",
       "    <tr>\n",
       "      <th>97433</th>\n",
       "      <td>44926</td>\n",
       "      <td>44926</td>\n",
       "    </tr>\n",
       "    <tr>\n",
       "      <th>97434</th>\n",
       "      <td>44926</td>\n",
       "      <td>44926</td>\n",
       "    </tr>\n",
       "  </tbody>\n",
       "</table>\n",
       "<p>97435 rows × 2 columns</p>\n",
       "</div>"
      ],
      "text/plain": [
       "       admission_date  discharge_date\n",
       "0               44927           44939\n",
       "1               44927           44931\n",
       "2               44927           44929\n",
       "3               44927           44957\n",
       "4               44927           44930\n",
       "...               ...             ...\n",
       "97430           44926           44927\n",
       "97431           44926           44926\n",
       "97432           44926           44926\n",
       "97433           44926           44926\n",
       "97434           44926           44926\n",
       "\n",
       "[97435 rows x 2 columns]"
      ]
     },
     "execution_count": 7,
     "metadata": {},
     "output_type": "execute_result"
    }
   ],
   "source": [
    "encdf2[['admission_date','discharge_date']]"
   ]
  },
  {
   "cell_type": "code",
   "execution_count": 8,
   "id": "07b16792",
   "metadata": {},
   "outputs": [],
   "source": [
    "encdf2['admission_date'] = pd.to_datetime(encdf2['admission_date'], unit='D', origin='1899-12-30')\n",
    "encdf2['discharge_date'] = pd.to_datetime(encdf2['discharge_date'], unit='D', origin='1899-12-30')\n",
    "#The offset in Excel is the number of days since 1900/01/01, with 1 being the first of January 1900,\n",
    "# so add the number of days as a timedelta to 1899/12/30"
   ]
  },
  {
   "cell_type": "code",
   "execution_count": 9,
   "id": "b31bbdc7",
   "metadata": {},
   "outputs": [
    {
     "data": {
      "text/html": [
       "<div>\n",
       "<style scoped>\n",
       "    .dataframe tbody tr th:only-of-type {\n",
       "        vertical-align: middle;\n",
       "    }\n",
       "\n",
       "    .dataframe tbody tr th {\n",
       "        vertical-align: top;\n",
       "    }\n",
       "\n",
       "    .dataframe thead th {\n",
       "        text-align: right;\n",
       "    }\n",
       "</style>\n",
       "<table border=\"1\" class=\"dataframe\">\n",
       "  <thead>\n",
       "    <tr style=\"text-align: right;\">\n",
       "      <th></th>\n",
       "      <th>admission_date</th>\n",
       "      <th>discharge_date</th>\n",
       "    </tr>\n",
       "  </thead>\n",
       "  <tbody>\n",
       "    <tr>\n",
       "      <th>0</th>\n",
       "      <td>2023-01-01</td>\n",
       "      <td>2023-01-13</td>\n",
       "    </tr>\n",
       "    <tr>\n",
       "      <th>1</th>\n",
       "      <td>2023-01-01</td>\n",
       "      <td>2023-01-05</td>\n",
       "    </tr>\n",
       "    <tr>\n",
       "      <th>2</th>\n",
       "      <td>2023-01-01</td>\n",
       "      <td>2023-01-03</td>\n",
       "    </tr>\n",
       "    <tr>\n",
       "      <th>3</th>\n",
       "      <td>2023-01-01</td>\n",
       "      <td>2023-01-31</td>\n",
       "    </tr>\n",
       "    <tr>\n",
       "      <th>4</th>\n",
       "      <td>2023-01-01</td>\n",
       "      <td>2023-01-04</td>\n",
       "    </tr>\n",
       "    <tr>\n",
       "      <th>...</th>\n",
       "      <td>...</td>\n",
       "      <td>...</td>\n",
       "    </tr>\n",
       "    <tr>\n",
       "      <th>97430</th>\n",
       "      <td>2022-12-31</td>\n",
       "      <td>2023-01-01</td>\n",
       "    </tr>\n",
       "    <tr>\n",
       "      <th>97431</th>\n",
       "      <td>2022-12-31</td>\n",
       "      <td>2022-12-31</td>\n",
       "    </tr>\n",
       "    <tr>\n",
       "      <th>97432</th>\n",
       "      <td>2022-12-31</td>\n",
       "      <td>2022-12-31</td>\n",
       "    </tr>\n",
       "    <tr>\n",
       "      <th>97433</th>\n",
       "      <td>2022-12-31</td>\n",
       "      <td>2022-12-31</td>\n",
       "    </tr>\n",
       "    <tr>\n",
       "      <th>97434</th>\n",
       "      <td>2022-12-31</td>\n",
       "      <td>2022-12-31</td>\n",
       "    </tr>\n",
       "  </tbody>\n",
       "</table>\n",
       "<p>97435 rows × 2 columns</p>\n",
       "</div>"
      ],
      "text/plain": [
       "      admission_date discharge_date\n",
       "0         2023-01-01     2023-01-13\n",
       "1         2023-01-01     2023-01-05\n",
       "2         2023-01-01     2023-01-03\n",
       "3         2023-01-01     2023-01-31\n",
       "4         2023-01-01     2023-01-04\n",
       "...              ...            ...\n",
       "97430     2022-12-31     2023-01-01\n",
       "97431     2022-12-31     2022-12-31\n",
       "97432     2022-12-31     2022-12-31\n",
       "97433     2022-12-31     2022-12-31\n",
       "97434     2022-12-31     2022-12-31\n",
       "\n",
       "[97435 rows x 2 columns]"
      ]
     },
     "execution_count": 9,
     "metadata": {},
     "output_type": "execute_result"
    }
   ],
   "source": [
    "encdf2[['admission_date','discharge_date']]"
   ]
  },
  {
   "cell_type": "markdown",
   "id": "6f92154b",
   "metadata": {},
   "source": [
    "### Now, we calculate the length of stay. We will create a new column in the dataframe."
   ]
  },
  {
   "cell_type": "code",
   "execution_count": 10,
   "id": "9c029e2e",
   "metadata": {},
   "outputs": [
    {
     "data": {
      "text/plain": [
       "0        12\n",
       "1         4\n",
       "2         2\n",
       "3        30\n",
       "4         3\n",
       "         ..\n",
       "97430     1\n",
       "97431     0\n",
       "97432     0\n",
       "97433     0\n",
       "97434     0\n",
       "Name: lengthStay, Length: 97435, dtype: int64"
      ]
     },
     "execution_count": 10,
     "metadata": {},
     "output_type": "execute_result"
    }
   ],
   "source": [
    "encdf2['lengthStay']=encdf2['discharge_date']-encdf2['admission_date']\n",
    "encdf2['lengthStay']=encdf2['lengthStay'].dt.days\n",
    "#type(encdf2['lengthStay'])\n",
    "encdf2['lengthStay']"
   ]
  },
  {
   "cell_type": "markdown",
   "id": "385449a2",
   "metadata": {},
   "source": [
    "#### The time scales of month, and year are meaningful for us. I'll create two new columns to use for graphs and calculations."
   ]
  },
  {
   "cell_type": "code",
   "execution_count": 11,
   "id": "b5e4c0e7",
   "metadata": {},
   "outputs": [
    {
     "data": {
      "text/html": [
       "<div>\n",
       "<style scoped>\n",
       "    .dataframe tbody tr th:only-of-type {\n",
       "        vertical-align: middle;\n",
       "    }\n",
       "\n",
       "    .dataframe tbody tr th {\n",
       "        vertical-align: top;\n",
       "    }\n",
       "\n",
       "    .dataframe thead th {\n",
       "        text-align: right;\n",
       "    }\n",
       "</style>\n",
       "<table border=\"1\" class=\"dataframe\">\n",
       "  <thead>\n",
       "    <tr style=\"text-align: right;\">\n",
       "      <th></th>\n",
       "      <th>admission_date</th>\n",
       "      <th>monthAdm</th>\n",
       "      <th>yearAdm</th>\n",
       "    </tr>\n",
       "  </thead>\n",
       "  <tbody>\n",
       "    <tr>\n",
       "      <th>0</th>\n",
       "      <td>2023-01-01</td>\n",
       "      <td>1</td>\n",
       "      <td>2023</td>\n",
       "    </tr>\n",
       "    <tr>\n",
       "      <th>1</th>\n",
       "      <td>2023-01-01</td>\n",
       "      <td>1</td>\n",
       "      <td>2023</td>\n",
       "    </tr>\n",
       "    <tr>\n",
       "      <th>2</th>\n",
       "      <td>2023-01-01</td>\n",
       "      <td>1</td>\n",
       "      <td>2023</td>\n",
       "    </tr>\n",
       "    <tr>\n",
       "      <th>3</th>\n",
       "      <td>2023-01-01</td>\n",
       "      <td>1</td>\n",
       "      <td>2023</td>\n",
       "    </tr>\n",
       "    <tr>\n",
       "      <th>4</th>\n",
       "      <td>2023-01-01</td>\n",
       "      <td>1</td>\n",
       "      <td>2023</td>\n",
       "    </tr>\n",
       "    <tr>\n",
       "      <th>...</th>\n",
       "      <td>...</td>\n",
       "      <td>...</td>\n",
       "      <td>...</td>\n",
       "    </tr>\n",
       "    <tr>\n",
       "      <th>97430</th>\n",
       "      <td>2022-12-31</td>\n",
       "      <td>12</td>\n",
       "      <td>2022</td>\n",
       "    </tr>\n",
       "    <tr>\n",
       "      <th>97431</th>\n",
       "      <td>2022-12-31</td>\n",
       "      <td>12</td>\n",
       "      <td>2022</td>\n",
       "    </tr>\n",
       "    <tr>\n",
       "      <th>97432</th>\n",
       "      <td>2022-12-31</td>\n",
       "      <td>12</td>\n",
       "      <td>2022</td>\n",
       "    </tr>\n",
       "    <tr>\n",
       "      <th>97433</th>\n",
       "      <td>2022-12-31</td>\n",
       "      <td>12</td>\n",
       "      <td>2022</td>\n",
       "    </tr>\n",
       "    <tr>\n",
       "      <th>97434</th>\n",
       "      <td>2022-12-31</td>\n",
       "      <td>12</td>\n",
       "      <td>2022</td>\n",
       "    </tr>\n",
       "  </tbody>\n",
       "</table>\n",
       "<p>97435 rows × 3 columns</p>\n",
       "</div>"
      ],
      "text/plain": [
       "      admission_date  monthAdm  yearAdm\n",
       "0         2023-01-01         1     2023\n",
       "1         2023-01-01         1     2023\n",
       "2         2023-01-01         1     2023\n",
       "3         2023-01-01         1     2023\n",
       "4         2023-01-01         1     2023\n",
       "...              ...       ...      ...\n",
       "97430     2022-12-31        12     2022\n",
       "97431     2022-12-31        12     2022\n",
       "97432     2022-12-31        12     2022\n",
       "97433     2022-12-31        12     2022\n",
       "97434     2022-12-31        12     2022\n",
       "\n",
       "[97435 rows x 3 columns]"
      ]
     },
     "execution_count": 11,
     "metadata": {},
     "output_type": "execute_result"
    }
   ],
   "source": [
    "encdf2['monthAdm'] = encdf2['admission_date'].dt.month\n",
    "encdf2['yearAdm'] = encdf2['admission_date'].dt.year\n",
    "\n",
    "encdf2[['admission_date','monthAdm','yearAdm']]\n",
    "\n",
    "# dt Accessor object for datetimelike properties"
   ]
  },
  {
   "cell_type": "markdown",
   "id": "d947438a",
   "metadata": {},
   "source": [
    "## Exploratory Analysis"
   ]
  },
  {
   "cell_type": "markdown",
   "id": "d91b80a1",
   "metadata": {},
   "source": [
    "#### Based on the below histogram, length of stay is typically 0 or patients leave on the same day. "
   ]
  },
  {
   "cell_type": "code",
   "execution_count": 12,
   "id": "83fce1da",
   "metadata": {},
   "outputs": [
    {
     "data": {
      "text/plain": [
       "<AxesSubplot:>"
      ]
     },
     "execution_count": 12,
     "metadata": {},
     "output_type": "execute_result"
    },
    {
     "data": {
      "image/png": "[encoded data removed]",
      "text/plain": [
       "<Figure size 640x480 with 1 Axes>"
      ]
     },
     "metadata": {},
     "output_type": "display_data"
    }
   ],
   "source": [
    "encdf2['lengthStay'].hist(bins=30, edgecolor='black')"
   ]
  },
  {
   "cell_type": "markdown",
   "id": "9267b1e8",
   "metadata": {},
   "source": [
    "####  The vairatuion here could be explained by service line. We can see from the historgram below by service line that ortho is different."
   ]
  },
  {
   "cell_type": "code",
   "execution_count": 13,
   "id": "5b267541",
   "metadata": {},
   "outputs": [
    {
     "name": "stdout",
     "output_type": "stream",
     "text": [
      "Service Lines:['Internal Med' 'OB Gyn' 'Ortho' 'General Surg']\n",
      " Number of lines: 4\n"
     ]
    }
   ],
   "source": [
    "print(\"Service Lines:\" + str(encdf2['service_line'].unique()))\n",
    "print(\" Number of lines: \" + str(len(encdf2['service_line'].unique())))"
   ]
  },
  {
   "cell_type": "code",
   "execution_count": 17,
   "id": "bddf9fd7",
   "metadata": {},
   "outputs": [
    {
     "data": {
      "image/png": "[encoded data removed]",
      "text/plain": [
       "<Figure size 640x480 with 1 Axes>"
      ]
     },
     "metadata": {},
     "output_type": "display_data"
    }
   ],
   "source": [
    "import matplotlib.pyplot as plt\n",
    "\n",
    "#define points values by group\n",
    "A = encdf2.loc[encdf2['service_line'] == 'General Surg', 'lengthStay']\n",
    "B = encdf2.loc[encdf2['service_line'] == 'Internal Med', 'lengthStay']\n",
    "C = encdf2.loc[encdf2['service_line'] == 'OB Gyn', 'lengthStay']\n",
    "D = encdf2.loc[encdf2['service_line'] == 'Ortho', 'lengthStay']\n",
    "\n",
    "\n",
    "#add three histograms to one plot\n",
    "plt.hist(A, alpha=0.5, label='General Surg')\n",
    "plt.hist(B, alpha=0.5, label='Internal Med')\n",
    "plt.hist(C, alpha=0.5, label='OB Gyn')\n",
    "plt.hist(D, alpha=0.5, label='Ortho')\n",
    "\n",
    "#add plot title and axis labels\n",
    "plt.title('Distribution by Service Line')\n",
    "plt.xlabel('Length of Stay')\n",
    "plt.ylabel('Frequency')\n",
    "\n",
    "#add legend\n",
    "plt.legend(title='Service Line')\n",
    "\n",
    "#display plot\n",
    "plt.show()\n"
   ]
  },
  {
   "cell_type": "code",
   "execution_count": 16,
   "id": "2badc61a",
   "metadata": {},
   "outputs": [],
   "source": [
    "#encdf2.hist(column=['lengthStay'], by=[\"monthAdm\"], bins=30, edgecolor='black')"
   ]
  },
  {
   "cell_type": "code",
   "execution_count": null,
   "id": "d7bc3de6",
   "metadata": {},
   "outputs": [],
   "source": []
  }
 ],
 "metadata": {
  "kernelspec": {
   "display_name": "Python 3 (ipykernel)",
   "language": "python",
   "name": "python3"
  },
  "language_info": {
   "codemirror_mode": {
    "name": "ipython",
    "version": 3
   },
   "file_extension": ".py",
   "mimetype": "text/x-python",
   "name": "python",
   "nbconvert_exporter": "python",
   "pygments_lexer": "ipython3",
   "version": "3.9.13"
  }
 },
 "nbformat": 4,
 "nbformat_minor": 5
}
