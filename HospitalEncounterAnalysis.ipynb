{
 "cells": [
  {
   "cell_type": "markdown",
   "id": "26edb6bb",
   "metadata": {},
   "source": [
    "# Hospital Encounter Analysis by Alyssa \n",
    "Data provided by ELVTR course Data Analysis in Healthcare"
   ]
  },
  {
   "cell_type": "markdown",
   "id": "44cb0571",
   "metadata": {},
   "source": [
    "## Data loading and preprocessing\n",
    "Let's start with loading and checking for duplicates, and missing data. After loading, I will review the number of rows, columns, and data types."
   ]
  },
  {
   "cell_type": "code",
   "execution_count": 37,
   "id": "2f22b272",
   "metadata": {},
   "outputs": [
    {
     "name": "stdout",
     "output_type": "stream",
     "text": [
      "   encounter_id  admission_date origin  service_line      loc    drg  \\\n",
      "0  5AP7T95R6HG6           44927    ED   Internal Med  GEN MED  392.0   \n",
      "1  UBE6BNHXJDV6           44927    ED   Internal Med  GEN MED  871.0   \n",
      "2  2G6U4ZHPWW5V           44927    ED   Internal Med  GEN MED  871.0   \n",
      "3  BSHAPPAB3YFC           44927    ED   Internal Med      PCU  871.0   \n",
      "4  V6XH3DEFDTTT           44927    ED   Internal Med  GEN MED  871.0   \n",
      "\n",
      "   discharge_date  patient_zipcode  \n",
      "0           44939            65072  \n",
      "1           44931            64742  \n",
      "2           44929            66524  \n",
      "3           44957            64150  \n",
      "4           44930            64097  \n"
     ]
    }
   ],
   "source": [
    "#import pandas the data analysis library for python\n",
    "import pandas as pd \n",
    "\n",
    "#upload excel file\n",
    "encdf = pd.read_excel(\"hospital_encounter_data_10_24AC.xlsx\")\n",
    "\n",
    "\n",
    "print(encdf.head())"
   ]
  },
  {
   "cell_type": "code",
   "execution_count": 38,
   "id": "5cdb5abf",
   "metadata": {},
   "outputs": [
    {
     "name": "stdout",
     "output_type": "stream",
     "text": [
      "<class 'pandas.core.frame.DataFrame'>\n",
      "RangeIndex: 97436 entries, 0 to 97435\n",
      "Data columns (total 8 columns):\n",
      " #   Column           Non-Null Count  Dtype  \n",
      "---  ------           --------------  -----  \n",
      " 0   encounter_id     97436 non-null  object \n",
      " 1   admission_date   97436 non-null  int64  \n",
      " 2   origin           97436 non-null  object \n",
      " 3   service_line     97436 non-null  object \n",
      " 4   loc              94512 non-null  object \n",
      " 5   drg              90616 non-null  float64\n",
      " 6   discharge_date   97436 non-null  int64  \n",
      " 7   patient_zipcode  97436 non-null  int64  \n",
      "dtypes: float64(1), int64(3), object(4)\n",
      "memory usage: 5.9+ MB\n"
     ]
    }
   ],
   "source": [
    "encdf.info()"
   ]
  },
  {
   "cell_type": "markdown",
   "id": "fb4cb203",
   "metadata": {},
   "source": [
    "Yup that is what we expected. \n",
    "The range index indicates 97,436 entries and 8 columns (note: python index starts wih 0). Some of the data types are not quite right, I'll fix that later."
   ]
  },
  {
   "cell_type": "markdown",
   "id": "102ac640",
   "metadata": {},
   "source": [
    "## Check for duplicates\n",
    "Each row in the data set is a patient visit or encounter, and the column named 'encounter_id' is a unique identifer for the visit. Let's check this field for duplicates, we should not have any duplicates in this column."
   ]
  },
  {
   "cell_type": "code",
   "execution_count": 39,
   "id": "82c803af",
   "metadata": {},
   "outputs": [
    {
     "data": {
      "text/html": [
       "<div>\n",
       "<style scoped>\n",
       "    .dataframe tbody tr th:only-of-type {\n",
       "        vertical-align: middle;\n",
       "    }\n",
       "\n",
       "    .dataframe tbody tr th {\n",
       "        vertical-align: top;\n",
       "    }\n",
       "\n",
       "    .dataframe thead th {\n",
       "        text-align: right;\n",
       "    }\n",
       "</style>\n",
       "<table border=\"1\" class=\"dataframe\">\n",
       "  <thead>\n",
       "    <tr style=\"text-align: right;\">\n",
       "      <th></th>\n",
       "      <th>encounter_id</th>\n",
       "      <th>admission_date</th>\n",
       "      <th>origin</th>\n",
       "      <th>service_line</th>\n",
       "      <th>loc</th>\n",
       "      <th>drg</th>\n",
       "      <th>discharge_date</th>\n",
       "      <th>patient_zipcode</th>\n",
       "    </tr>\n",
       "  </thead>\n",
       "  <tbody>\n",
       "    <tr>\n",
       "      <th>97392</th>\n",
       "      <td>DS6U23ZNFMEE</td>\n",
       "      <td>44863</td>\n",
       "      <td>OR</td>\n",
       "      <td>General Surg</td>\n",
       "      <td>NaN</td>\n",
       "      <td>621.0</td>\n",
       "      <td>44863</td>\n",
       "      <td>66023</td>\n",
       "    </tr>\n",
       "    <tr>\n",
       "      <th>97435</th>\n",
       "      <td>DS6U23ZNFMEE</td>\n",
       "      <td>44863</td>\n",
       "      <td>OR</td>\n",
       "      <td>General Surg</td>\n",
       "      <td>NaN</td>\n",
       "      <td>621.0</td>\n",
       "      <td>44863</td>\n",
       "      <td>66023</td>\n",
       "    </tr>\n",
       "  </tbody>\n",
       "</table>\n",
       "</div>"
      ],
      "text/plain": [
       "       encounter_id  admission_date origin  service_line  loc    drg  \\\n",
       "97392  DS6U23ZNFMEE           44863     OR  General Surg  NaN  621.0   \n",
       "97435  DS6U23ZNFMEE           44863     OR  General Surg  NaN  621.0   \n",
       "\n",
       "       discharge_date  patient_zipcode  \n",
       "97392           44863            66023  \n",
       "97435           44863            66023  "
      ]
     },
     "execution_count": 39,
     "metadata": {},
     "output_type": "execute_result"
    }
   ],
   "source": [
    "#duplicate method returns boolean list, named argument keep=False will mark all dups\n",
    "encdf[encdf.duplicated(subset=[\"encounter_id\"], keep=False)]"
   ]
  },
  {
   "cell_type": "markdown",
   "id": "698ff3b9",
   "metadata": {},
   "source": [
    "We caught a duplicate that appears to be identical! Let's clean this up by dropping the last row index 97435, check for duplicates, and check the number of rows. "
   ]
  },
  {
   "cell_type": "code",
   "execution_count": 40,
   "id": "1c452378",
   "metadata": {},
   "outputs": [
    {
     "name": "stdout",
     "output_type": "stream",
     "text": [
      "Empty DataFrame\n",
      "Columns: [encounter_id, admission_date, origin, service_line, loc, drg, discharge_date, patient_zipcode]\n",
      "Index: []\n",
      "new number of rows: 97435\n"
     ]
    }
   ],
   "source": [
    "#drop method \n",
    "encdf2 = encdf.drop([97435])\n",
    "\n",
    "print(encdf2[encdf2.duplicated(subset=[\"encounter_id\"], keep=False)])\n",
    "\n",
    "print(\"new number of rows: \" + str(len(encdf2)))"
   ]
  },
  {
   "cell_type": "markdown",
   "id": "a936b83e",
   "metadata": {},
   "source": [
    "## Check for missing values\n",
    "The columns of \"loc\" and \"drg\" having missing values. It's best to discuss with a data owner if they have more information on why the values are missing. We will not be using these columns for our analysis, and we can ignore for now."
   ]
  },
  {
   "cell_type": "code",
   "execution_count": 41,
   "id": "60c02a75",
   "metadata": {},
   "outputs": [
    {
     "name": "stdout",
     "output_type": "stream",
     "text": [
      "encounter_id       False\n",
      "admission_date     False\n",
      "origin             False\n",
      "service_line       False\n",
      "loc                 True\n",
      "drg                 True\n",
      "discharge_date     False\n",
      "patient_zipcode    False\n",
      "dtype: bool\n"
     ]
    }
   ],
   "source": [
    "print( encdf2.isna().any() )"
   ]
  },
  {
   "cell_type": "code",
   "execution_count": 42,
   "id": "41d4f04e",
   "metadata": {},
   "outputs": [
    {
     "name": "stdout",
     "output_type": "stream",
     "text": [
      "Percentage Missing DRG Column: 7.0%\n",
      "Number missing: 6820\n"
     ]
    }
   ],
   "source": [
    "print(\"Percentage Missing DRG Column: \"+ str(round(sum(encdf2['drg'].isna())/len(encdf2['drg'])*100,2)) + \"%\")\n",
    "print(\"Number missing: \" + str(sum(encdf2['drg'].isna())))"
   ]
  },
  {
   "cell_type": "markdown",
   "id": "a4eadb46",
   "metadata": {},
   "source": [
    "With 7% missing in the DRG column, we will decide to move forward with removing these data points. If missing at random, deleting these data point should not greatly affect our analysis. "
   ]
  },
  {
   "cell_type": "markdown",
   "id": "6685355f",
   "metadata": {},
   "source": [
    "## Calculate new measure called length of stay\n",
    "#### Length of stay at the hosptial is the metric of interest, and calculated by taking the difference between the admission date and discharge date. \n",
    "\n",
    "#### The dates references Excel's origin date January 1, 1900 is day 1. Let's convert to the typical calendar that we use."
   ]
  },
  {
   "cell_type": "code",
   "execution_count": 43,
   "id": "197bede3",
   "metadata": {},
   "outputs": [
    {
     "data": {
      "text/html": [
       "<div>\n",
       "<style scoped>\n",
       "    .dataframe tbody tr th:only-of-type {\n",
       "        vertical-align: middle;\n",
       "    }\n",
       "\n",
       "    .dataframe tbody tr th {\n",
       "        vertical-align: top;\n",
       "    }\n",
       "\n",
       "    .dataframe thead th {\n",
       "        text-align: right;\n",
       "    }\n",
       "</style>\n",
       "<table border=\"1\" class=\"dataframe\">\n",
       "  <thead>\n",
       "    <tr style=\"text-align: right;\">\n",
       "      <th></th>\n",
       "      <th>admission_date</th>\n",
       "      <th>discharge_date</th>\n",
       "    </tr>\n",
       "  </thead>\n",
       "  <tbody>\n",
       "    <tr>\n",
       "      <th>0</th>\n",
       "      <td>44927</td>\n",
       "      <td>44939</td>\n",
       "    </tr>\n",
       "    <tr>\n",
       "      <th>1</th>\n",
       "      <td>44927</td>\n",
       "      <td>44931</td>\n",
       "    </tr>\n",
       "    <tr>\n",
       "      <th>2</th>\n",
       "      <td>44927</td>\n",
       "      <td>44929</td>\n",
       "    </tr>\n",
       "    <tr>\n",
       "      <th>3</th>\n",
       "      <td>44927</td>\n",
       "      <td>44957</td>\n",
       "    </tr>\n",
       "    <tr>\n",
       "      <th>4</th>\n",
       "      <td>44927</td>\n",
       "      <td>44930</td>\n",
       "    </tr>\n",
       "    <tr>\n",
       "      <th>...</th>\n",
       "      <td>...</td>\n",
       "      <td>...</td>\n",
       "    </tr>\n",
       "    <tr>\n",
       "      <th>97430</th>\n",
       "      <td>44926</td>\n",
       "      <td>44927</td>\n",
       "    </tr>\n",
       "    <tr>\n",
       "      <th>97431</th>\n",
       "      <td>44926</td>\n",
       "      <td>44926</td>\n",
       "    </tr>\n",
       "    <tr>\n",
       "      <th>97432</th>\n",
       "      <td>44926</td>\n",
       "      <td>44926</td>\n",
       "    </tr>\n",
       "    <tr>\n",
       "      <th>97433</th>\n",
       "      <td>44926</td>\n",
       "      <td>44926</td>\n",
       "    </tr>\n",
       "    <tr>\n",
       "      <th>97434</th>\n",
       "      <td>44926</td>\n",
       "      <td>44926</td>\n",
       "    </tr>\n",
       "  </tbody>\n",
       "</table>\n",
       "<p>97435 rows × 2 columns</p>\n",
       "</div>"
      ],
      "text/plain": [
       "       admission_date  discharge_date\n",
       "0               44927           44939\n",
       "1               44927           44931\n",
       "2               44927           44929\n",
       "3               44927           44957\n",
       "4               44927           44930\n",
       "...               ...             ...\n",
       "97430           44926           44927\n",
       "97431           44926           44926\n",
       "97432           44926           44926\n",
       "97433           44926           44926\n",
       "97434           44926           44926\n",
       "\n",
       "[97435 rows x 2 columns]"
      ]
     },
     "execution_count": 43,
     "metadata": {},
     "output_type": "execute_result"
    }
   ],
   "source": [
    "encdf2[['admission_date','discharge_date']]"
   ]
  },
  {
   "cell_type": "code",
   "execution_count": 44,
   "id": "07b16792",
   "metadata": {},
   "outputs": [],
   "source": [
    "encdf2['admission_date'] = pd.to_datetime(encdf2['admission_date'], unit='D', origin='1899-12-30')\n",
    "encdf2['discharge_date'] = pd.to_datetime(encdf2['discharge_date'], unit='D', origin='1899-12-30')\n",
    "#The offset in Excel is the number of days since 1900/01/01, with 1 being the first of January 1900,\n",
    "# so add the number of days as a timedelta to 1899/12/30"
   ]
  },
  {
   "cell_type": "code",
   "execution_count": 45,
   "id": "b31bbdc7",
   "metadata": {},
   "outputs": [
    {
     "data": {
      "text/html": [
       "<div>\n",
       "<style scoped>\n",
       "    .dataframe tbody tr th:only-of-type {\n",
       "        vertical-align: middle;\n",
       "    }\n",
       "\n",
       "    .dataframe tbody tr th {\n",
       "        vertical-align: top;\n",
       "    }\n",
       "\n",
       "    .dataframe thead th {\n",
       "        text-align: right;\n",
       "    }\n",
       "</style>\n",
       "<table border=\"1\" class=\"dataframe\">\n",
       "  <thead>\n",
       "    <tr style=\"text-align: right;\">\n",
       "      <th></th>\n",
       "      <th>admission_date</th>\n",
       "      <th>discharge_date</th>\n",
       "    </tr>\n",
       "  </thead>\n",
       "  <tbody>\n",
       "    <tr>\n",
       "      <th>0</th>\n",
       "      <td>2023-01-01</td>\n",
       "      <td>2023-01-13</td>\n",
       "    </tr>\n",
       "    <tr>\n",
       "      <th>1</th>\n",
       "      <td>2023-01-01</td>\n",
       "      <td>2023-01-05</td>\n",
       "    </tr>\n",
       "    <tr>\n",
       "      <th>2</th>\n",
       "      <td>2023-01-01</td>\n",
       "      <td>2023-01-03</td>\n",
       "    </tr>\n",
       "    <tr>\n",
       "      <th>3</th>\n",
       "      <td>2023-01-01</td>\n",
       "      <td>2023-01-31</td>\n",
       "    </tr>\n",
       "    <tr>\n",
       "      <th>4</th>\n",
       "      <td>2023-01-01</td>\n",
       "      <td>2023-01-04</td>\n",
       "    </tr>\n",
       "    <tr>\n",
       "      <th>...</th>\n",
       "      <td>...</td>\n",
       "      <td>...</td>\n",
       "    </tr>\n",
       "    <tr>\n",
       "      <th>97430</th>\n",
       "      <td>2022-12-31</td>\n",
       "      <td>2023-01-01</td>\n",
       "    </tr>\n",
       "    <tr>\n",
       "      <th>97431</th>\n",
       "      <td>2022-12-31</td>\n",
       "      <td>2022-12-31</td>\n",
       "    </tr>\n",
       "    <tr>\n",
       "      <th>97432</th>\n",
       "      <td>2022-12-31</td>\n",
       "      <td>2022-12-31</td>\n",
       "    </tr>\n",
       "    <tr>\n",
       "      <th>97433</th>\n",
       "      <td>2022-12-31</td>\n",
       "      <td>2022-12-31</td>\n",
       "    </tr>\n",
       "    <tr>\n",
       "      <th>97434</th>\n",
       "      <td>2022-12-31</td>\n",
       "      <td>2022-12-31</td>\n",
       "    </tr>\n",
       "  </tbody>\n",
       "</table>\n",
       "<p>97435 rows × 2 columns</p>\n",
       "</div>"
      ],
      "text/plain": [
       "      admission_date discharge_date\n",
       "0         2023-01-01     2023-01-13\n",
       "1         2023-01-01     2023-01-05\n",
       "2         2023-01-01     2023-01-03\n",
       "3         2023-01-01     2023-01-31\n",
       "4         2023-01-01     2023-01-04\n",
       "...              ...            ...\n",
       "97430     2022-12-31     2023-01-01\n",
       "97431     2022-12-31     2022-12-31\n",
       "97432     2022-12-31     2022-12-31\n",
       "97433     2022-12-31     2022-12-31\n",
       "97434     2022-12-31     2022-12-31\n",
       "\n",
       "[97435 rows x 2 columns]"
      ]
     },
     "execution_count": 45,
     "metadata": {},
     "output_type": "execute_result"
    }
   ],
   "source": [
    "encdf2[['admission_date','discharge_date']]"
   ]
  },
  {
   "cell_type": "markdown",
   "id": "6f92154b",
   "metadata": {},
   "source": [
    "### Now, we calculate the length of stay. We will create a new column in the dataframe."
   ]
  },
  {
   "cell_type": "code",
   "execution_count": 46,
   "id": "9c029e2e",
   "metadata": {},
   "outputs": [
    {
     "data": {
      "text/plain": [
       "0        12\n",
       "1         4\n",
       "2         2\n",
       "3        30\n",
       "4         3\n",
       "         ..\n",
       "97430     1\n",
       "97431     0\n",
       "97432     0\n",
       "97433     0\n",
       "97434     0\n",
       "Name: lengthStay, Length: 97435, dtype: int64"
      ]
     },
     "execution_count": 46,
     "metadata": {},
     "output_type": "execute_result"
    }
   ],
   "source": [
    "encdf2['lengthStay']=encdf2['discharge_date']-encdf2['admission_date']\n",
    "encdf2['lengthStay']=encdf2['lengthStay'].dt.days\n",
    "#type(encdf2['lengthStay'])\n",
    "encdf2['lengthStay']"
   ]
  },
  {
   "cell_type": "markdown",
   "id": "385449a2",
   "metadata": {},
   "source": [
    "#### The time scales of month, and year are meaningful for us. I'll create two new columns to use for graphs and calculations."
   ]
  },
  {
   "cell_type": "code",
   "execution_count": 47,
   "id": "b5e4c0e7",
   "metadata": {},
   "outputs": [
    {
     "data": {
      "text/html": [
       "<div>\n",
       "<style scoped>\n",
       "    .dataframe tbody tr th:only-of-type {\n",
       "        vertical-align: middle;\n",
       "    }\n",
       "\n",
       "    .dataframe tbody tr th {\n",
       "        vertical-align: top;\n",
       "    }\n",
       "\n",
       "    .dataframe thead th {\n",
       "        text-align: right;\n",
       "    }\n",
       "</style>\n",
       "<table border=\"1\" class=\"dataframe\">\n",
       "  <thead>\n",
       "    <tr style=\"text-align: right;\">\n",
       "      <th></th>\n",
       "      <th>admission_date</th>\n",
       "      <th>monthAdm</th>\n",
       "      <th>yearAdm</th>\n",
       "    </tr>\n",
       "  </thead>\n",
       "  <tbody>\n",
       "    <tr>\n",
       "      <th>0</th>\n",
       "      <td>2023-01-01</td>\n",
       "      <td>1</td>\n",
       "      <td>2023</td>\n",
       "    </tr>\n",
       "    <tr>\n",
       "      <th>1</th>\n",
       "      <td>2023-01-01</td>\n",
       "      <td>1</td>\n",
       "      <td>2023</td>\n",
       "    </tr>\n",
       "    <tr>\n",
       "      <th>2</th>\n",
       "      <td>2023-01-01</td>\n",
       "      <td>1</td>\n",
       "      <td>2023</td>\n",
       "    </tr>\n",
       "    <tr>\n",
       "      <th>3</th>\n",
       "      <td>2023-01-01</td>\n",
       "      <td>1</td>\n",
       "      <td>2023</td>\n",
       "    </tr>\n",
       "    <tr>\n",
       "      <th>4</th>\n",
       "      <td>2023-01-01</td>\n",
       "      <td>1</td>\n",
       "      <td>2023</td>\n",
       "    </tr>\n",
       "    <tr>\n",
       "      <th>...</th>\n",
       "      <td>...</td>\n",
       "      <td>...</td>\n",
       "      <td>...</td>\n",
       "    </tr>\n",
       "    <tr>\n",
       "      <th>97430</th>\n",
       "      <td>2022-12-31</td>\n",
       "      <td>12</td>\n",
       "      <td>2022</td>\n",
       "    </tr>\n",
       "    <tr>\n",
       "      <th>97431</th>\n",
       "      <td>2022-12-31</td>\n",
       "      <td>12</td>\n",
       "      <td>2022</td>\n",
       "    </tr>\n",
       "    <tr>\n",
       "      <th>97432</th>\n",
       "      <td>2022-12-31</td>\n",
       "      <td>12</td>\n",
       "      <td>2022</td>\n",
       "    </tr>\n",
       "    <tr>\n",
       "      <th>97433</th>\n",
       "      <td>2022-12-31</td>\n",
       "      <td>12</td>\n",
       "      <td>2022</td>\n",
       "    </tr>\n",
       "    <tr>\n",
       "      <th>97434</th>\n",
       "      <td>2022-12-31</td>\n",
       "      <td>12</td>\n",
       "      <td>2022</td>\n",
       "    </tr>\n",
       "  </tbody>\n",
       "</table>\n",
       "<p>97435 rows × 3 columns</p>\n",
       "</div>"
      ],
      "text/plain": [
       "      admission_date  monthAdm  yearAdm\n",
       "0         2023-01-01         1     2023\n",
       "1         2023-01-01         1     2023\n",
       "2         2023-01-01         1     2023\n",
       "3         2023-01-01         1     2023\n",
       "4         2023-01-01         1     2023\n",
       "...              ...       ...      ...\n",
       "97430     2022-12-31        12     2022\n",
       "97431     2022-12-31        12     2022\n",
       "97432     2022-12-31        12     2022\n",
       "97433     2022-12-31        12     2022\n",
       "97434     2022-12-31        12     2022\n",
       "\n",
       "[97435 rows x 3 columns]"
      ]
     },
     "execution_count": 47,
     "metadata": {},
     "output_type": "execute_result"
    }
   ],
   "source": [
    "encdf2['monthAdm'] = encdf2['admission_date'].dt.month\n",
    "encdf2['yearAdm'] = encdf2['admission_date'].dt.year\n",
    "\n",
    "encdf2[['admission_date','monthAdm','yearAdm']]\n",
    "\n",
    "# dt Accessor object for datetimelike properties"
   ]
  },
  {
   "cell_type": "markdown",
   "id": "d947438a",
   "metadata": {},
   "source": [
    "## Exploratory Analysis"
   ]
  },
  {
   "cell_type": "markdown",
   "id": "d91b80a1",
   "metadata": {},
   "source": [
    "#### Based on the below histogram, length of stay is typically 0 or patients leave on the same day. "
   ]
  },
  {
   "cell_type": "code",
   "execution_count": 48,
   "id": "83fce1da",
   "metadata": {},
   "outputs": [
    {
     "data": {
      "text/plain": [
       "<AxesSubplot:>"
      ]
     },
     "execution_count": 48,
     "metadata": {},
     "output_type": "execute_result"
    },
    {
     "data": {
      "image/png": "[encoded data removed]",
      "text/plain": [
       "<Figure size 640x480 with 1 Axes>"
      ]
     },
     "metadata": {},
     "output_type": "display_data"
    }
   ],
   "source": [
    "encdf2['lengthStay'].hist(bins=30, edgecolor='black')"
   ]
  },
  {
   "cell_type": "markdown",
   "id": "9267b1e8",
   "metadata": {},
   "source": [
    "####  The vairation here could be explained by service line. We can see from the historgram below with the length of stay by service line that ortho is different."
   ]
  },
  {
   "cell_type": "code",
   "execution_count": 49,
   "id": "5b267541",
   "metadata": {},
   "outputs": [
    {
     "name": "stdout",
     "output_type": "stream",
     "text": [
      "Service Lines:['Internal Med' 'OB Gyn' 'Ortho' 'General Surg']\n",
      " Number of lines: 4\n"
     ]
    }
   ],
   "source": [
    "print(\"Service Lines:\" + str(encdf2['service_line'].unique()))\n",
    "print(\" Number of lines: \" + str(len(encdf2['service_line'].unique())))"
   ]
  },
  {
   "cell_type": "code",
   "execution_count": 50,
   "id": "2badc61a",
   "metadata": {},
   "outputs": [
    {
     "data": {
      "text/plain": [
       "array([[<AxesSubplot:title={'center':'General Surg'}>,\n",
       "        <AxesSubplot:title={'center':'Internal Med'}>],\n",
       "       [<AxesSubplot:title={'center':'OB Gyn'}>,\n",
       "        <AxesSubplot:title={'center':'Ortho'}>]], dtype=object)"
      ]
     },
     "execution_count": 50,
     "metadata": {},
     "output_type": "execute_result"
    },
    {
     "data": {
      "image/png": "[encoded data removed]",
      "text/plain": [
       "<Figure size 640x480 with 4 Axes>"
      ]
     },
     "metadata": {},
     "output_type": "display_data"
    }
   ],
   "source": [
    "encdf2.hist(column=['lengthStay'], by=[\"service_line\"], bins=30, edgecolor='black')"
   ]
  },
  {
   "cell_type": "markdown",
   "id": "5948d2a7",
   "metadata": {},
   "source": [
    "<p> By service line, it appears that internal medicne has a different peak and spread in their distribution of length of stay. Let's stack these distributions in one graph for another visual. </p>"
   ]
  },
  {
   "cell_type": "code",
   "execution_count": 51,
   "id": "bddf9fd7",
   "metadata": {},
   "outputs": [
    {
     "data": {
      "image/png": "[encoded data removed]",
      "text/plain": [
       "<Figure size 640x480 with 1 Axes>"
      ]
     },
     "metadata": {},
     "output_type": "display_data"
    }
   ],
   "source": [
    "import matplotlib.pyplot as plt\n",
    "\n",
    "#define points values by group\n",
    "A = encdf2.loc[encdf2['service_line'] == 'General Surg', 'lengthStay']\n",
    "B = encdf2.loc[encdf2['service_line'] == 'Internal Med', 'lengthStay']\n",
    "C = encdf2.loc[encdf2['service_line'] == 'OB Gyn', 'lengthStay']\n",
    "D = encdf2.loc[encdf2['service_line'] == 'Ortho', 'lengthStay']\n",
    "\n",
    "\n",
    "#add three histograms to one plot\n",
    "plt.hist(A, alpha=0.5, label='General Surg')\n",
    "plt.hist(B, alpha=0.5, label='Internal Med')\n",
    "plt.hist(C, alpha=0.5, label='OB Gyn')\n",
    "plt.hist(D, alpha=0.5, label='Ortho')\n",
    "\n",
    "#add plot title and axis labels\n",
    "plt.title('Distribution by Service Line')\n",
    "plt.xlabel('Length of Stay')\n",
    "plt.ylabel('Frequency')\n",
    "\n",
    "#add legend\n",
    "plt.legend(title='Service Line')\n",
    "\n",
    "#display plot\n",
    "plt.show()\n"
   ]
  },
  {
   "cell_type": "markdown",
   "id": "91a9bc43",
   "metadata": {},
   "source": [
    "<p>Internal Medicine seems to have a shifted histogram compared to the service lines.</p>"
   ]
  },
  {
   "cell_type": "markdown",
   "id": "c91b2e48",
   "metadata": {},
   "source": [
    "## Merge with DRG table\n"
   ]
  },
  {
   "cell_type": "code",
   "execution_count": 52,
   "id": "2077fbcc",
   "metadata": {},
   "outputs": [
    {
     "name": "stdout",
     "output_type": "stream",
     "text": [
      "   MS_DRG_NUM                                       MS-DRG Title  MDC  \\\n",
      "0           1  HEART TRANSPLANT OR IMPLANT OF HEART ASSIST SY...  PRE   \n",
      "1           2  HEART TRANSPLANT OR IMPLANT OF HEART ASSIST SY...  PRE   \n",
      "2           3  ECMO OR TRACHEOSTOMY WITH MV >96 HOURS OR PRIN...  PRE   \n",
      "3           4  TRACHEOSTOMY WITH MV >96 HOURS OR PRINCIPAL DI...  PRE   \n",
      "4           5  LIVER TRANSPLANT WITH MCC OR INTESTINAL TRANSP...  PRE   \n",
      "\n",
      "  mdc_name  TYPE   weight geometric_mean_los arithmetic_mean_los  \n",
      "0      NaN  SURG  28.1461               29.9                39.3  \n",
      "1      NaN  SURG  13.4731               12.3                14.9  \n",
      "2      NaN  SURG  20.2371               24.7                33.2  \n",
      "3      NaN  SURG  13.7317               24.2                29.2  \n",
      "4      NaN  SURG   11.407                 15                20.6  \n"
     ]
    }
   ],
   "source": [
    "drg = pd.read_excel(\"hospital_encounter_data_10_24AC.xlsx\", sheet_name=1)\n",
    "print(drg.head())"
   ]
  },
  {
   "cell_type": "code",
   "execution_count": 53,
   "id": "2f5329ea",
   "metadata": {},
   "outputs": [
    {
     "name": "stdout",
     "output_type": "stream",
     "text": [
      "<class 'pandas.core.frame.DataFrame'>\n",
      "RangeIndex: 767 entries, 0 to 766\n",
      "Data columns (total 8 columns):\n",
      " #   Column               Non-Null Count  Dtype \n",
      "---  ------               --------------  ----- \n",
      " 0   MS_DRG_NUM           767 non-null    int64 \n",
      " 1   MS-DRG Title         767 non-null    object\n",
      " 2   MDC                  767 non-null    object\n",
      " 3   mdc_name             742 non-null    object\n",
      " 4   TYPE                 767 non-null    object\n",
      " 5   weight               767 non-null    object\n",
      " 6   geometric_mean_los   767 non-null    object\n",
      " 7   arithmetic_mean_los  767 non-null    object\n",
      "dtypes: int64(1), object(7)\n",
      "memory usage: 48.1+ KB\n"
     ]
    }
   ],
   "source": [
    "drg.info()"
   ]
  },
  {
   "cell_type": "code",
   "execution_count": 92,
   "id": "c84abfa4",
   "metadata": {},
   "outputs": [],
   "source": [
    "encdf3 = encdf2.merge(drg, left_on='drg', right_on='MS_DRG_NUM', how=\"left\")"
   ]
  },
  {
   "cell_type": "code",
   "execution_count": 93,
   "id": "ec8e0ba0",
   "metadata": {},
   "outputs": [
    {
     "name": "stdout",
     "output_type": "stream",
     "text": [
      "<class 'pandas.core.frame.DataFrame'>\n",
      "Int64Index: 97435 entries, 0 to 97434\n",
      "Data columns (total 19 columns):\n",
      " #   Column               Non-Null Count  Dtype         \n",
      "---  ------               --------------  -----         \n",
      " 0   encounter_id         97435 non-null  object        \n",
      " 1   admission_date       97435 non-null  datetime64[ns]\n",
      " 2   origin               97435 non-null  object        \n",
      " 3   service_line         97435 non-null  object        \n",
      " 4   loc                  94512 non-null  object        \n",
      " 5   drg                  90615 non-null  float64       \n",
      " 6   discharge_date       97435 non-null  datetime64[ns]\n",
      " 7   patient_zipcode      97435 non-null  int64         \n",
      " 8   lengthStay           97435 non-null  int64         \n",
      " 9   monthAdm             97435 non-null  int64         \n",
      " 10  yearAdm              97435 non-null  int64         \n",
      " 11  MS_DRG_NUM           90615 non-null  float64       \n",
      " 12  MS-DRG Title         90615 non-null  object        \n",
      " 13  MDC                  90615 non-null  object        \n",
      " 14  mdc_name             90615 non-null  object        \n",
      " 15  TYPE                 90615 non-null  object        \n",
      " 16  weight               90615 non-null  object        \n",
      " 17  geometric_mean_los   90615 non-null  object        \n",
      " 18  arithmetic_mean_los  90615 non-null  object        \n",
      "dtypes: datetime64[ns](2), float64(2), int64(4), object(11)\n",
      "memory usage: 14.9+ MB\n"
     ]
    }
   ],
   "source": [
    "encdf3.info()"
   ]
  },
  {
   "cell_type": "markdown",
   "id": "4fd2ffff",
   "metadata": {},
   "source": [
    "##### !!! important note: Dropped 6820 rows due to null values in DRG column. Total number of rows: 97436-6820=90614"
   ]
  },
  {
   "cell_type": "markdown",
   "id": "79d86423",
   "metadata": {},
   "source": [
    "# Drop day stays"
   ]
  },
  {
   "cell_type": "code",
   "execution_count": 64,
   "id": "9b5f90d0",
   "metadata": {},
   "outputs": [
    {
     "data": {
      "text/html": [
       "<div>\n",
       "<style scoped>\n",
       "    .dataframe tbody tr th:only-of-type {\n",
       "        vertical-align: middle;\n",
       "    }\n",
       "\n",
       "    .dataframe tbody tr th {\n",
       "        vertical-align: top;\n",
       "    }\n",
       "\n",
       "    .dataframe thead th {\n",
       "        text-align: right;\n",
       "    }\n",
       "</style>\n",
       "<table border=\"1\" class=\"dataframe\">\n",
       "  <thead>\n",
       "    <tr style=\"text-align: right;\">\n",
       "      <th></th>\n",
       "      <th>lengthStay</th>\n",
       "      <th>encounter_id</th>\n",
       "    </tr>\n",
       "    <tr>\n",
       "      <th>service_line</th>\n",
       "      <th></th>\n",
       "      <th></th>\n",
       "    </tr>\n",
       "  </thead>\n",
       "  <tbody>\n",
       "    <tr>\n",
       "      <th>General Surg</th>\n",
       "      <td>0.860958</td>\n",
       "      <td>15276</td>\n",
       "    </tr>\n",
       "    <tr>\n",
       "      <th>Internal Med</th>\n",
       "      <td>4.850267</td>\n",
       "      <td>39764</td>\n",
       "    </tr>\n",
       "    <tr>\n",
       "      <th>OB Gyn</th>\n",
       "      <td>1.117292</td>\n",
       "      <td>21195</td>\n",
       "    </tr>\n",
       "    <tr>\n",
       "      <th>Ortho</th>\n",
       "      <td>0.642837</td>\n",
       "      <td>14380</td>\n",
       "    </tr>\n",
       "  </tbody>\n",
       "</table>\n",
       "</div>"
      ],
      "text/plain": [
       "              lengthStay  encounter_id\n",
       "service_line                          \n",
       "General Surg    0.860958         15276\n",
       "Internal Med    4.850267         39764\n",
       "OB Gyn          1.117292         21195\n",
       "Ortho           0.642837         14380"
      ]
     },
     "execution_count": 64,
     "metadata": {},
     "output_type": "execute_result"
    }
   ],
   "source": [
    "encdf3.groupby(\"service_line\").agg({\"lengthStay\": \"mean\", \"encounter_id\": \"size\"})"
   ]
  },
  {
   "cell_type": "code",
   "execution_count": 81,
   "id": "e6fa74b5",
   "metadata": {},
   "outputs": [
    {
     "name": "stdout",
     "output_type": "stream",
     "text": [
      "number of day stays: 32790\n"
     ]
    }
   ],
   "source": [
    "encdf_noday = encdf3[encdf3[\"lengthStay\"] != 0]\n",
    "print(\"number of day stays: \"  + str(sum(encdf3[\"lengthStay\"] == 0)) )"
   ]
  },
  {
   "cell_type": "code",
   "execution_count": 82,
   "id": "3fe98e33",
   "metadata": {},
   "outputs": [
    {
     "data": {
      "text/html": [
       "<div>\n",
       "<style scoped>\n",
       "    .dataframe tbody tr th:only-of-type {\n",
       "        vertical-align: middle;\n",
       "    }\n",
       "\n",
       "    .dataframe tbody tr th {\n",
       "        vertical-align: top;\n",
       "    }\n",
       "\n",
       "    .dataframe thead th {\n",
       "        text-align: right;\n",
       "    }\n",
       "</style>\n",
       "<table border=\"1\" class=\"dataframe\">\n",
       "  <thead>\n",
       "    <tr style=\"text-align: right;\">\n",
       "      <th></th>\n",
       "      <th>lengthStay</th>\n",
       "      <th>encounter_id</th>\n",
       "    </tr>\n",
       "    <tr>\n",
       "      <th>service_line</th>\n",
       "      <th></th>\n",
       "      <th></th>\n",
       "    </tr>\n",
       "  </thead>\n",
       "  <tbody>\n",
       "    <tr>\n",
       "      <th>General Surg</th>\n",
       "      <td>2.876640</td>\n",
       "      <td>4572</td>\n",
       "    </tr>\n",
       "    <tr>\n",
       "      <th>Internal Med</th>\n",
       "      <td>5.010157</td>\n",
       "      <td>38495</td>\n",
       "    </tr>\n",
       "    <tr>\n",
       "      <th>OB Gyn</th>\n",
       "      <td>2.160478</td>\n",
       "      <td>10961</td>\n",
       "    </tr>\n",
       "    <tr>\n",
       "      <th>Ortho</th>\n",
       "      <td>2.434554</td>\n",
       "      <td>3797</td>\n",
       "    </tr>\n",
       "  </tbody>\n",
       "</table>\n",
       "</div>"
      ],
      "text/plain": [
       "              lengthStay  encounter_id\n",
       "service_line                          \n",
       "General Surg    2.876640          4572\n",
       "Internal Med    5.010157         38495\n",
       "OB Gyn          2.160478         10961\n",
       "Ortho           2.434554          3797"
      ]
     },
     "execution_count": 82,
     "metadata": {},
     "output_type": "execute_result"
    }
   ],
   "source": [
    "encdf_noday.groupby(\"service_line\").agg({\"lengthStay\": \"mean\", \"encounter_id\": \"size\"})"
   ]
  },
  {
   "cell_type": "code",
   "execution_count": 83,
   "id": "acbe49cc",
   "metadata": {},
   "outputs": [],
   "source": [
    "daily = encdf_noday.groupby([\"admission_date\",\"service_line\"]).agg({\"encounter_id\": \"size\"})"
   ]
  },
  {
   "cell_type": "code",
   "execution_count": 86,
   "id": "ecfe0561",
   "metadata": {},
   "outputs": [
    {
     "data": {
      "text/html": [
       "<div>\n",
       "<style scoped>\n",
       "    .dataframe tbody tr th:only-of-type {\n",
       "        vertical-align: middle;\n",
       "    }\n",
       "\n",
       "    .dataframe tbody tr th {\n",
       "        vertical-align: top;\n",
       "    }\n",
       "\n",
       "    .dataframe thead th {\n",
       "        text-align: right;\n",
       "    }\n",
       "</style>\n",
       "<table border=\"1\" class=\"dataframe\">\n",
       "  <thead>\n",
       "    <tr style=\"text-align: right;\">\n",
       "      <th></th>\n",
       "      <th>encounter_id</th>\n",
       "    </tr>\n",
       "    <tr>\n",
       "      <th>service_line</th>\n",
       "      <th></th>\n",
       "    </tr>\n",
       "  </thead>\n",
       "  <tbody>\n",
       "    <tr>\n",
       "      <th>General Surg</th>\n",
       "      <td>6.763314</td>\n",
       "    </tr>\n",
       "    <tr>\n",
       "      <th>Internal Med</th>\n",
       "      <td>53.763966</td>\n",
       "    </tr>\n",
       "    <tr>\n",
       "      <th>OB Gyn</th>\n",
       "      <td>15.308659</td>\n",
       "    </tr>\n",
       "    <tr>\n",
       "      <th>Ortho</th>\n",
       "      <td>7.430528</td>\n",
       "    </tr>\n",
       "  </tbody>\n",
       "</table>\n",
       "</div>"
      ],
      "text/plain": [
       "              encounter_id\n",
       "service_line              \n",
       "General Surg      6.763314\n",
       "Internal Med     53.763966\n",
       "OB Gyn           15.308659\n",
       "Ortho             7.430528"
      ]
     },
     "execution_count": 86,
     "metadata": {},
     "output_type": "execute_result"
    }
   ],
   "source": [
    "daily.groupby([\"service_line\"]).agg({\"encounter_id\": \"mean\"})"
   ]
  },
  {
   "cell_type": "markdown",
   "id": "1ffc8a82",
   "metadata": {},
   "source": [
    "#### Conclusion: \n",
    "On average, the internal medicine line is occuping 53.8 beds that will not turnover in the same day, while general surg is 7.43 beds. "
   ]
  },
  {
   "cell_type": "code",
   "execution_count": 111,
   "id": "668c8189",
   "metadata": {},
   "outputs": [],
   "source": [
    "#encdf_noday.groupby([\"mdc_name\",\"MS-DRG Title\"]).agg({\"lengthStay\": \"mean\", \"encounter_id\": \"size\",\"weight\":\"std\", \"geometric_mean_los\":\"max\"})"
   ]
  },
  {
   "cell_type": "markdown",
   "id": "44624f7c",
   "metadata": {},
   "source": [
    "# Summary for Internal Medicine"
   ]
  },
  {
   "cell_type": "code",
   "execution_count": 107,
   "id": "f991e274",
   "metadata": {},
   "outputs": [
    {
     "data": {
      "text/html": [
       "<div>\n",
       "<style scoped>\n",
       "    .dataframe tbody tr th:only-of-type {\n",
       "        vertical-align: middle;\n",
       "    }\n",
       "\n",
       "    .dataframe tbody tr th {\n",
       "        vertical-align: top;\n",
       "    }\n",
       "\n",
       "    .dataframe thead th {\n",
       "        text-align: right;\n",
       "    }\n",
       "</style>\n",
       "<table border=\"1\" class=\"dataframe\">\n",
       "  <thead>\n",
       "    <tr style=\"text-align: right;\">\n",
       "      <th></th>\n",
       "      <th></th>\n",
       "      <th>lengthStay</th>\n",
       "      <th>encounter_id</th>\n",
       "      <th>weight</th>\n",
       "      <th>geometric_mean_los</th>\n",
       "    </tr>\n",
       "    <tr>\n",
       "      <th>mdc_name</th>\n",
       "      <th>MS-DRG Title</th>\n",
       "      <th></th>\n",
       "      <th></th>\n",
       "      <th></th>\n",
       "      <th></th>\n",
       "    </tr>\n",
       "  </thead>\n",
       "  <tbody>\n",
       "    <tr>\n",
       "      <th>Alcohol/Drug Use &amp; Alcohol/Drug Induced Organic Mental Disorders</th>\n",
       "      <th>ALCOHOL, DRUG ABUSE OR DEPENDENCE WITHOUT REHABILITATION THERAPY WITHOUT MCC</th>\n",
       "      <td>5.080258</td>\n",
       "      <td>1084</td>\n",
       "      <td>0.0</td>\n",
       "      <td>3.3</td>\n",
       "    </tr>\n",
       "    <tr>\n",
       "      <th>Circulatory System</th>\n",
       "      <th>HEART FAILURE AND SHOCK WITH MCC</th>\n",
       "      <td>5.024650</td>\n",
       "      <td>6937</td>\n",
       "      <td>0.0</td>\n",
       "      <td>3.9</td>\n",
       "    </tr>\n",
       "    <tr>\n",
       "      <th rowspan=\"2\" valign=\"top\">Digestive System</th>\n",
       "      <th>ESOPHAGITIS, GASTROENTERITIS AND MISCELLANEOUS DIGESTIVE DISORDERS WITHOUT MCC</th>\n",
       "      <td>4.893071</td>\n",
       "      <td>1169</td>\n",
       "      <td>0.0</td>\n",
       "      <td>2.6</td>\n",
       "    </tr>\n",
       "    <tr>\n",
       "      <th>GASTROINTESTINAL HEMORRHAGE WITH CC</th>\n",
       "      <td>4.893828</td>\n",
       "      <td>2317</td>\n",
       "      <td>0.0</td>\n",
       "      <td>3.0</td>\n",
       "    </tr>\n",
       "    <tr>\n",
       "      <th rowspan=\"2\" valign=\"top\">Infectious &amp; Parasitic Diseases, Systemic or Unspecified Sites</th>\n",
       "      <th>SEPTICEMIA OR SEVERE SEPSIS WITHOUT MV &gt;96 HOURS WITH MCC</th>\n",
       "      <td>5.037544</td>\n",
       "      <td>13744</td>\n",
       "      <td>0.0</td>\n",
       "      <td>5.0</td>\n",
       "    </tr>\n",
       "    <tr>\n",
       "      <th>SEPTICEMIA OR SEVERE SEPSIS WITHOUT MV &gt;96 HOURS WITHOUT MCC</th>\n",
       "      <td>5.051894</td>\n",
       "      <td>1927</td>\n",
       "      <td>0.0</td>\n",
       "      <td>3.5</td>\n",
       "    </tr>\n",
       "    <tr>\n",
       "      <th>Kidney &amp; Urinary Tract</th>\n",
       "      <th>OTHER KIDNEY AND URINARY TRACT DIAGNOSES WITH MCC</th>\n",
       "      <td>4.932249</td>\n",
       "      <td>369</td>\n",
       "      <td>0.0</td>\n",
       "      <td>4.8</td>\n",
       "    </tr>\n",
       "    <tr>\n",
       "      <th>Nervous System</th>\n",
       "      <th>INTRACRANIAL HEMORRHAGE OR CEREBRAL INFARCTION WITH CC OR TPA IN 24 HOURS</th>\n",
       "      <td>5.082345</td>\n",
       "      <td>1518</td>\n",
       "      <td>0.0</td>\n",
       "      <td>2.9</td>\n",
       "    </tr>\n",
       "    <tr>\n",
       "      <th rowspan=\"3\" valign=\"top\">Respiratory System</th>\n",
       "      <th>RESPIRATORY INFECTIONS AND INFLAMMATIONS WITH MCC</th>\n",
       "      <td>4.936162</td>\n",
       "      <td>5514</td>\n",
       "      <td>0.0</td>\n",
       "      <td>5.2</td>\n",
       "    </tr>\n",
       "    <tr>\n",
       "      <th>SIMPLE PNEUMONIA AND PLEURISY WITH CC</th>\n",
       "      <td>5.245232</td>\n",
       "      <td>367</td>\n",
       "      <td>0.0</td>\n",
       "      <td>2.9</td>\n",
       "    </tr>\n",
       "    <tr>\n",
       "      <th>SIMPLE PNEUMONIA AND PLEURISY WITH MCC</th>\n",
       "      <td>5.014088</td>\n",
       "      <td>3549</td>\n",
       "      <td>0.0</td>\n",
       "      <td>4.0</td>\n",
       "    </tr>\n",
       "  </tbody>\n",
       "</table>\n",
       "</div>"
      ],
      "text/plain": [
       "                                                                                                       lengthStay  \\\n",
       "mdc_name                                           MS-DRG Title                                                     \n",
       "Alcohol/Drug Use & Alcohol/Drug Induced Organic... ALCOHOL, DRUG ABUSE OR DEPENDENCE WITHOUT REHAB...    5.080258   \n",
       "Circulatory System                                 HEART FAILURE AND SHOCK WITH MCC                      5.024650   \n",
       "Digestive System                                   ESOPHAGITIS, GASTROENTERITIS AND MISCELLANEOUS ...    4.893071   \n",
       "                                                   GASTROINTESTINAL HEMORRHAGE WITH CC                   4.893828   \n",
       "Infectious & Parasitic Diseases, Systemic or Un... SEPTICEMIA OR SEVERE SEPSIS WITHOUT MV >96 HOUR...    5.037544   \n",
       "                                                   SEPTICEMIA OR SEVERE SEPSIS WITHOUT MV >96 HOUR...    5.051894   \n",
       "Kidney & Urinary Tract                             OTHER KIDNEY AND URINARY TRACT DIAGNOSES WITH MCC     4.932249   \n",
       "Nervous System                                     INTRACRANIAL HEMORRHAGE OR CEREBRAL INFARCTION ...    5.082345   \n",
       "Respiratory System                                 RESPIRATORY INFECTIONS AND INFLAMMATIONS WITH MCC     4.936162   \n",
       "                                                   SIMPLE PNEUMONIA AND PLEURISY WITH CC                 5.245232   \n",
       "                                                   SIMPLE PNEUMONIA AND PLEURISY WITH MCC                5.014088   \n",
       "\n",
       "                                                                                                       encounter_id  \\\n",
       "mdc_name                                           MS-DRG Title                                                       \n",
       "Alcohol/Drug Use & Alcohol/Drug Induced Organic... ALCOHOL, DRUG ABUSE OR DEPENDENCE WITHOUT REHAB...          1084   \n",
       "Circulatory System                                 HEART FAILURE AND SHOCK WITH MCC                            6937   \n",
       "Digestive System                                   ESOPHAGITIS, GASTROENTERITIS AND MISCELLANEOUS ...          1169   \n",
       "                                                   GASTROINTESTINAL HEMORRHAGE WITH CC                         2317   \n",
       "Infectious & Parasitic Diseases, Systemic or Un... SEPTICEMIA OR SEVERE SEPSIS WITHOUT MV >96 HOUR...         13744   \n",
       "                                                   SEPTICEMIA OR SEVERE SEPSIS WITHOUT MV >96 HOUR...          1927   \n",
       "Kidney & Urinary Tract                             OTHER KIDNEY AND URINARY TRACT DIAGNOSES WITH MCC            369   \n",
       "Nervous System                                     INTRACRANIAL HEMORRHAGE OR CEREBRAL INFARCTION ...          1518   \n",
       "Respiratory System                                 RESPIRATORY INFECTIONS AND INFLAMMATIONS WITH MCC           5514   \n",
       "                                                   SIMPLE PNEUMONIA AND PLEURISY WITH CC                        367   \n",
       "                                                   SIMPLE PNEUMONIA AND PLEURISY WITH MCC                      3549   \n",
       "\n",
       "                                                                                                       weight  \\\n",
       "mdc_name                                           MS-DRG Title                                                 \n",
       "Alcohol/Drug Use & Alcohol/Drug Induced Organic... ALCOHOL, DRUG ABUSE OR DEPENDENCE WITHOUT REHAB...     0.0   \n",
       "Circulatory System                                 HEART FAILURE AND SHOCK WITH MCC                       0.0   \n",
       "Digestive System                                   ESOPHAGITIS, GASTROENTERITIS AND MISCELLANEOUS ...     0.0   \n",
       "                                                   GASTROINTESTINAL HEMORRHAGE WITH CC                    0.0   \n",
       "Infectious & Parasitic Diseases, Systemic or Un... SEPTICEMIA OR SEVERE SEPSIS WITHOUT MV >96 HOUR...     0.0   \n",
       "                                                   SEPTICEMIA OR SEVERE SEPSIS WITHOUT MV >96 HOUR...     0.0   \n",
       "Kidney & Urinary Tract                             OTHER KIDNEY AND URINARY TRACT DIAGNOSES WITH MCC      0.0   \n",
       "Nervous System                                     INTRACRANIAL HEMORRHAGE OR CEREBRAL INFARCTION ...     0.0   \n",
       "Respiratory System                                 RESPIRATORY INFECTIONS AND INFLAMMATIONS WITH MCC      0.0   \n",
       "                                                   SIMPLE PNEUMONIA AND PLEURISY WITH CC                  0.0   \n",
       "                                                   SIMPLE PNEUMONIA AND PLEURISY WITH MCC                 0.0   \n",
       "\n",
       "                                                                                                       geometric_mean_los  \n",
       "mdc_name                                           MS-DRG Title                                                            \n",
       "Alcohol/Drug Use & Alcohol/Drug Induced Organic... ALCOHOL, DRUG ABUSE OR DEPENDENCE WITHOUT REHAB...                 3.3  \n",
       "Circulatory System                                 HEART FAILURE AND SHOCK WITH MCC                                   3.9  \n",
       "Digestive System                                   ESOPHAGITIS, GASTROENTERITIS AND MISCELLANEOUS ...                 2.6  \n",
       "                                                   GASTROINTESTINAL HEMORRHAGE WITH CC                                3.0  \n",
       "Infectious & Parasitic Diseases, Systemic or Un... SEPTICEMIA OR SEVERE SEPSIS WITHOUT MV >96 HOUR...                 5.0  \n",
       "                                                   SEPTICEMIA OR SEVERE SEPSIS WITHOUT MV >96 HOUR...                 3.5  \n",
       "Kidney & Urinary Tract                             OTHER KIDNEY AND URINARY TRACT DIAGNOSES WITH MCC                  4.8  \n",
       "Nervous System                                     INTRACRANIAL HEMORRHAGE OR CEREBRAL INFARCTION ...                 2.9  \n",
       "Respiratory System                                 RESPIRATORY INFECTIONS AND INFLAMMATIONS WITH MCC                  5.2  \n",
       "                                                   SIMPLE PNEUMONIA AND PLEURISY WITH CC                              2.9  \n",
       "                                                   SIMPLE PNEUMONIA AND PLEURISY WITH MCC                             4.0  "
      ]
     },
     "execution_count": 107,
     "metadata": {},
     "output_type": "execute_result"
    }
   ],
   "source": [
    "im = encdf_noday[encdf_noday['service_line'] == 'Internal Med']\n",
    "\n",
    "im.groupby([\"mdc_name\",\"MS-DRG Title\"]).agg({\"lengthStay\": \"mean\", \"encounter_id\": \"size\",\"weight\":\"std\", \"geometric_mean_los\":\"max\"})"
   ]
  },
  {
   "cell_type": "markdown",
   "id": "49beae3d",
   "metadata": {},
   "source": [
    "# Summary for General Sug"
   ]
  },
  {
   "cell_type": "code",
   "execution_count": 109,
   "id": "5ce93dbe",
   "metadata": {},
   "outputs": [
    {
     "data": {
      "text/html": [
       "<div>\n",
       "<style scoped>\n",
       "    .dataframe tbody tr th:only-of-type {\n",
       "        vertical-align: middle;\n",
       "    }\n",
       "\n",
       "    .dataframe tbody tr th {\n",
       "        vertical-align: top;\n",
       "    }\n",
       "\n",
       "    .dataframe thead th {\n",
       "        text-align: right;\n",
       "    }\n",
       "</style>\n",
       "<table border=\"1\" class=\"dataframe\">\n",
       "  <thead>\n",
       "    <tr style=\"text-align: right;\">\n",
       "      <th></th>\n",
       "      <th></th>\n",
       "      <th>lengthStay</th>\n",
       "      <th>encounter_id</th>\n",
       "      <th>weight</th>\n",
       "      <th>geometric_mean_los</th>\n",
       "    </tr>\n",
       "    <tr>\n",
       "      <th>mdc_name</th>\n",
       "      <th>MS-DRG Title</th>\n",
       "      <th></th>\n",
       "      <th></th>\n",
       "      <th></th>\n",
       "      <th></th>\n",
       "    </tr>\n",
       "  </thead>\n",
       "  <tbody>\n",
       "    <tr>\n",
       "      <th>Alcohol/Drug Use &amp; Alcohol/Drug Induced Organic Mental Disorders</th>\n",
       "      <th>ALCOHOL, DRUG ABUSE OR DEPENDENCE WITHOUT REHABILITATION THERAPY WITHOUT MCC</th>\n",
       "      <td>5.080258</td>\n",
       "      <td>1084</td>\n",
       "      <td>0.8513</td>\n",
       "      <td>3.3</td>\n",
       "    </tr>\n",
       "    <tr>\n",
       "      <th>Circulatory System</th>\n",
       "      <th>HEART FAILURE AND SHOCK WITH MCC</th>\n",
       "      <td>5.024650</td>\n",
       "      <td>6937</td>\n",
       "      <td>1.2798</td>\n",
       "      <td>3.9</td>\n",
       "    </tr>\n",
       "    <tr>\n",
       "      <th rowspan=\"2\" valign=\"top\">Digestive System</th>\n",
       "      <th>ESOPHAGITIS, GASTROENTERITIS AND MISCELLANEOUS DIGESTIVE DISORDERS WITHOUT MCC</th>\n",
       "      <td>4.893071</td>\n",
       "      <td>1169</td>\n",
       "      <td>0.7876</td>\n",
       "      <td>2.6</td>\n",
       "    </tr>\n",
       "    <tr>\n",
       "      <th>GASTROINTESTINAL HEMORRHAGE WITH CC</th>\n",
       "      <td>4.893828</td>\n",
       "      <td>2317</td>\n",
       "      <td>0.9850</td>\n",
       "      <td>3.0</td>\n",
       "    </tr>\n",
       "    <tr>\n",
       "      <th rowspan=\"2\" valign=\"top\">Infectious &amp; Parasitic Diseases, Systemic or Unspecified Sites</th>\n",
       "      <th>SEPTICEMIA OR SEVERE SEPSIS WITHOUT MV &gt;96 HOURS WITH MCC</th>\n",
       "      <td>5.037544</td>\n",
       "      <td>13744</td>\n",
       "      <td>1.9572</td>\n",
       "      <td>5.0</td>\n",
       "    </tr>\n",
       "    <tr>\n",
       "      <th>SEPTICEMIA OR SEVERE SEPSIS WITHOUT MV &gt;96 HOURS WITHOUT MCC</th>\n",
       "      <td>5.051894</td>\n",
       "      <td>1927</td>\n",
       "      <td>1.0280</td>\n",
       "      <td>3.5</td>\n",
       "    </tr>\n",
       "    <tr>\n",
       "      <th>Kidney &amp; Urinary Tract</th>\n",
       "      <th>OTHER KIDNEY AND URINARY TRACT DIAGNOSES WITH MCC</th>\n",
       "      <td>4.932249</td>\n",
       "      <td>369</td>\n",
       "      <td>1.6025</td>\n",
       "      <td>4.8</td>\n",
       "    </tr>\n",
       "    <tr>\n",
       "      <th>Nervous System</th>\n",
       "      <th>INTRACRANIAL HEMORRHAGE OR CEREBRAL INFARCTION WITH CC OR TPA IN 24 HOURS</th>\n",
       "      <td>5.082345</td>\n",
       "      <td>1518</td>\n",
       "      <td>1.0164</td>\n",
       "      <td>2.9</td>\n",
       "    </tr>\n",
       "    <tr>\n",
       "      <th rowspan=\"3\" valign=\"top\">Respiratory System</th>\n",
       "      <th>RESPIRATORY INFECTIONS AND INFLAMMATIONS WITH MCC</th>\n",
       "      <td>4.936162</td>\n",
       "      <td>5514</td>\n",
       "      <td>1.7799</td>\n",
       "      <td>5.2</td>\n",
       "    </tr>\n",
       "    <tr>\n",
       "      <th>SIMPLE PNEUMONIA AND PLEURISY WITH CC</th>\n",
       "      <td>5.245232</td>\n",
       "      <td>367</td>\n",
       "      <td>0.8402</td>\n",
       "      <td>2.9</td>\n",
       "    </tr>\n",
       "    <tr>\n",
       "      <th>SIMPLE PNEUMONIA AND PLEURISY WITH MCC</th>\n",
       "      <td>5.014088</td>\n",
       "      <td>3549</td>\n",
       "      <td>1.2987</td>\n",
       "      <td>4.0</td>\n",
       "    </tr>\n",
       "  </tbody>\n",
       "</table>\n",
       "</div>"
      ],
      "text/plain": [
       "                                                                                                       lengthStay  \\\n",
       "mdc_name                                           MS-DRG Title                                                     \n",
       "Alcohol/Drug Use & Alcohol/Drug Induced Organic... ALCOHOL, DRUG ABUSE OR DEPENDENCE WITHOUT REHAB...    5.080258   \n",
       "Circulatory System                                 HEART FAILURE AND SHOCK WITH MCC                      5.024650   \n",
       "Digestive System                                   ESOPHAGITIS, GASTROENTERITIS AND MISCELLANEOUS ...    4.893071   \n",
       "                                                   GASTROINTESTINAL HEMORRHAGE WITH CC                   4.893828   \n",
       "Infectious & Parasitic Diseases, Systemic or Un... SEPTICEMIA OR SEVERE SEPSIS WITHOUT MV >96 HOUR...    5.037544   \n",
       "                                                   SEPTICEMIA OR SEVERE SEPSIS WITHOUT MV >96 HOUR...    5.051894   \n",
       "Kidney & Urinary Tract                             OTHER KIDNEY AND URINARY TRACT DIAGNOSES WITH MCC     4.932249   \n",
       "Nervous System                                     INTRACRANIAL HEMORRHAGE OR CEREBRAL INFARCTION ...    5.082345   \n",
       "Respiratory System                                 RESPIRATORY INFECTIONS AND INFLAMMATIONS WITH MCC     4.936162   \n",
       "                                                   SIMPLE PNEUMONIA AND PLEURISY WITH CC                 5.245232   \n",
       "                                                   SIMPLE PNEUMONIA AND PLEURISY WITH MCC                5.014088   \n",
       "\n",
       "                                                                                                       encounter_id  \\\n",
       "mdc_name                                           MS-DRG Title                                                       \n",
       "Alcohol/Drug Use & Alcohol/Drug Induced Organic... ALCOHOL, DRUG ABUSE OR DEPENDENCE WITHOUT REHAB...          1084   \n",
       "Circulatory System                                 HEART FAILURE AND SHOCK WITH MCC                            6937   \n",
       "Digestive System                                   ESOPHAGITIS, GASTROENTERITIS AND MISCELLANEOUS ...          1169   \n",
       "                                                   GASTROINTESTINAL HEMORRHAGE WITH CC                         2317   \n",
       "Infectious & Parasitic Diseases, Systemic or Un... SEPTICEMIA OR SEVERE SEPSIS WITHOUT MV >96 HOUR...         13744   \n",
       "                                                   SEPTICEMIA OR SEVERE SEPSIS WITHOUT MV >96 HOUR...          1927   \n",
       "Kidney & Urinary Tract                             OTHER KIDNEY AND URINARY TRACT DIAGNOSES WITH MCC            369   \n",
       "Nervous System                                     INTRACRANIAL HEMORRHAGE OR CEREBRAL INFARCTION ...          1518   \n",
       "Respiratory System                                 RESPIRATORY INFECTIONS AND INFLAMMATIONS WITH MCC           5514   \n",
       "                                                   SIMPLE PNEUMONIA AND PLEURISY WITH CC                        367   \n",
       "                                                   SIMPLE PNEUMONIA AND PLEURISY WITH MCC                      3549   \n",
       "\n",
       "                                                                                                       weight  \\\n",
       "mdc_name                                           MS-DRG Title                                                 \n",
       "Alcohol/Drug Use & Alcohol/Drug Induced Organic... ALCOHOL, DRUG ABUSE OR DEPENDENCE WITHOUT REHAB...  0.8513   \n",
       "Circulatory System                                 HEART FAILURE AND SHOCK WITH MCC                    1.2798   \n",
       "Digestive System                                   ESOPHAGITIS, GASTROENTERITIS AND MISCELLANEOUS ...  0.7876   \n",
       "                                                   GASTROINTESTINAL HEMORRHAGE WITH CC                 0.9850   \n",
       "Infectious & Parasitic Diseases, Systemic or Un... SEPTICEMIA OR SEVERE SEPSIS WITHOUT MV >96 HOUR...  1.9572   \n",
       "                                                   SEPTICEMIA OR SEVERE SEPSIS WITHOUT MV >96 HOUR...  1.0280   \n",
       "Kidney & Urinary Tract                             OTHER KIDNEY AND URINARY TRACT DIAGNOSES WITH MCC   1.6025   \n",
       "Nervous System                                     INTRACRANIAL HEMORRHAGE OR CEREBRAL INFARCTION ...  1.0164   \n",
       "Respiratory System                                 RESPIRATORY INFECTIONS AND INFLAMMATIONS WITH MCC   1.7799   \n",
       "                                                   SIMPLE PNEUMONIA AND PLEURISY WITH CC               0.8402   \n",
       "                                                   SIMPLE PNEUMONIA AND PLEURISY WITH MCC              1.2987   \n",
       "\n",
       "                                                                                                       geometric_mean_los  \n",
       "mdc_name                                           MS-DRG Title                                                            \n",
       "Alcohol/Drug Use & Alcohol/Drug Induced Organic... ALCOHOL, DRUG ABUSE OR DEPENDENCE WITHOUT REHAB...                 3.3  \n",
       "Circulatory System                                 HEART FAILURE AND SHOCK WITH MCC                                   3.9  \n",
       "Digestive System                                   ESOPHAGITIS, GASTROENTERITIS AND MISCELLANEOUS ...                 2.6  \n",
       "                                                   GASTROINTESTINAL HEMORRHAGE WITH CC                                3.0  \n",
       "Infectious & Parasitic Diseases, Systemic or Un... SEPTICEMIA OR SEVERE SEPSIS WITHOUT MV >96 HOUR...                 5.0  \n",
       "                                                   SEPTICEMIA OR SEVERE SEPSIS WITHOUT MV >96 HOUR...                 3.5  \n",
       "Kidney & Urinary Tract                             OTHER KIDNEY AND URINARY TRACT DIAGNOSES WITH MCC                  4.8  \n",
       "Nervous System                                     INTRACRANIAL HEMORRHAGE OR CEREBRAL INFARCTION ...                 2.9  \n",
       "Respiratory System                                 RESPIRATORY INFECTIONS AND INFLAMMATIONS WITH MCC                  5.2  \n",
       "                                                   SIMPLE PNEUMONIA AND PLEURISY WITH CC                              2.9  \n",
       "                                                   SIMPLE PNEUMONIA AND PLEURISY WITH MCC                             4.0  "
      ]
     },
     "execution_count": 109,
     "metadata": {},
     "output_type": "execute_result"
    }
   ],
   "source": [
    "gs = encdf_noday[encdf_noday['service_line'] == 'General Surgry']\n",
    "\n",
    "im.groupby([\"mdc_name\",\"MS-DRG Title\"]).agg({\"lengthStay\": \"mean\", \"encounter_id\": \"size\",\"weight\":\"min\", \"geometric_mean_los\":\"max\"})"
   ]
  },
  {
   "cell_type": "code",
   "execution_count": null,
   "id": "eef1f98d",
   "metadata": {},
   "outputs": [],
   "source": []
  }
 ],
 "metadata": {
  "kernelspec": {
   "display_name": "Python 3 (ipykernel)",
   "language": "python",
   "name": "python3"
  },
  "language_info": {
   "codemirror_mode": {
    "name": "ipython",
    "version": 3
   },
   "file_extension": ".py",
   "mimetype": "text/x-python",
   "name": "python",
   "nbconvert_exporter": "python",
   "pygments_lexer": "ipython3",
   "version": "3.9.13"
  }
 },
 "nbformat": 4,
 "nbformat_minor": 5
}
