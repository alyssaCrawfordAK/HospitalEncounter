{
 "cells": [
  {
   "cell_type": "markdown",
   "id": "26edb6bb",
   "metadata": {},
   "source": [
    "# Hospital Encounter Analysis by Alyssa \n",
    "Data provided by ELVTR course Data Analysis in Healthcare"
   ]
  },
  {
   "cell_type": "markdown",
   "id": "44cb0571",
   "metadata": {},
   "source": [
    "## Data loading and preprocessing\n",
    "Let's start with loading and checking for duplicates, and missing data. After loading, I will review the number of rows, columns, and data types."
   ]
  },
  {
   "cell_type": "code",
   "execution_count": 1,
   "id": "2f22b272",
   "metadata": {},
   "outputs": [
    {
     "name": "stdout",
     "output_type": "stream",
     "text": [
      "   encounter_id  admission_date origin  service_line      loc    drg  \\\n",
      "0  5AP7T95R6HG6           44927    ED   Internal Med  GEN MED  392.0   \n",
      "1  UBE6BNHXJDV6           44927    ED   Internal Med  GEN MED  871.0   \n",
      "2  2G6U4ZHPWW5V           44927    ED   Internal Med  GEN MED  871.0   \n",
      "3  BSHAPPAB3YFC           44927    ED   Internal Med      PCU  871.0   \n",
      "4  V6XH3DEFDTTT           44927    ED   Internal Med  GEN MED  871.0   \n",
      "\n",
      "   discharge_date  patient_zipcode  \n",
      "0           44939            65072  \n",
      "1           44931            64742  \n",
      "2           44929            66524  \n",
      "3           44957            64150  \n",
      "4           44930            64097  \n"
     ]
    }
   ],
   "source": [
    "#import pandas the data analysis library for python\n",
    "import pandas as pd \n",
    "\n",
    "#upload excel file\n",
    "encdf = pd.read_excel(\"hospital_encounter_data_10_24AC.xlsx\")\n",
    "\n",
    "\n",
    "print(encdf.head())"
   ]
  },
  {
   "cell_type": "code",
   "execution_count": 2,
   "id": "5cdb5abf",
   "metadata": {},
   "outputs": [
    {
     "name": "stdout",
     "output_type": "stream",
     "text": [
      "<class 'pandas.core.frame.DataFrame'>\n",
      "RangeIndex: 97436 entries, 0 to 97435\n",
      "Data columns (total 8 columns):\n",
      " #   Column           Non-Null Count  Dtype  \n",
      "---  ------           --------------  -----  \n",
      " 0   encounter_id     97436 non-null  object \n",
      " 1   admission_date   97436 non-null  int64  \n",
      " 2   origin           97436 non-null  object \n",
      " 3   service_line     97436 non-null  object \n",
      " 4   loc              94512 non-null  object \n",
      " 5   drg              90616 non-null  float64\n",
      " 6   discharge_date   97436 non-null  int64  \n",
      " 7   patient_zipcode  97436 non-null  int64  \n",
      "dtypes: float64(1), int64(3), object(4)\n",
      "memory usage: 5.9+ MB\n"
     ]
    }
   ],
   "source": [
    "encdf.info()"
   ]
  },
  {
   "cell_type": "markdown",
   "id": "fb4cb203",
   "metadata": {},
   "source": [
    "Yup that is what we expected. \n",
    "The range index indicates 97,436 entries and 8 columns (note: python index starts wih 0). Some of the data types are not quite right, I'll fix that later."
   ]
  },
  {
   "cell_type": "markdown",
   "id": "102ac640",
   "metadata": {},
   "source": [
    "## Check for duplicates\n",
    "Each row in the data set is a patient visit or encounter, and the column named 'encounter_id' is a unique identifer for the visit. Let's check this field for duplicates, we should not have any duplicates in this column."
   ]
  },
  {
   "cell_type": "code",
   "execution_count": 3,
   "id": "82c803af",
   "metadata": {},
   "outputs": [
    {
     "data": {
      "text/html": [
       "<div>\n",
       "<style scoped>\n",
       "    .dataframe tbody tr th:only-of-type {\n",
       "        vertical-align: middle;\n",
       "    }\n",
       "\n",
       "    .dataframe tbody tr th {\n",
       "        vertical-align: top;\n",
       "    }\n",
       "\n",
       "    .dataframe thead th {\n",
       "        text-align: right;\n",
       "    }\n",
       "</style>\n",
       "<table border=\"1\" class=\"dataframe\">\n",
       "  <thead>\n",
       "    <tr style=\"text-align: right;\">\n",
       "      <th></th>\n",
       "      <th>encounter_id</th>\n",
       "      <th>admission_date</th>\n",
       "      <th>origin</th>\n",
       "      <th>service_line</th>\n",
       "      <th>loc</th>\n",
       "      <th>drg</th>\n",
       "      <th>discharge_date</th>\n",
       "      <th>patient_zipcode</th>\n",
       "    </tr>\n",
       "  </thead>\n",
       "  <tbody>\n",
       "    <tr>\n",
       "      <th>97392</th>\n",
       "      <td>DS6U23ZNFMEE</td>\n",
       "      <td>44863</td>\n",
       "      <td>OR</td>\n",
       "      <td>General Surg</td>\n",
       "      <td>NaN</td>\n",
       "      <td>621.0</td>\n",
       "      <td>44863</td>\n",
       "      <td>66023</td>\n",
       "    </tr>\n",
       "    <tr>\n",
       "      <th>97435</th>\n",
       "      <td>DS6U23ZNFMEE</td>\n",
       "      <td>44863</td>\n",
       "      <td>OR</td>\n",
       "      <td>General Surg</td>\n",
       "      <td>NaN</td>\n",
       "      <td>621.0</td>\n",
       "      <td>44863</td>\n",
       "      <td>66023</td>\n",
       "    </tr>\n",
       "  </tbody>\n",
       "</table>\n",
       "</div>"
      ],
      "text/plain": [
       "       encounter_id  admission_date origin  service_line  loc    drg  \\\n",
       "97392  DS6U23ZNFMEE           44863     OR  General Surg  NaN  621.0   \n",
       "97435  DS6U23ZNFMEE           44863     OR  General Surg  NaN  621.0   \n",
       "\n",
       "       discharge_date  patient_zipcode  \n",
       "97392           44863            66023  \n",
       "97435           44863            66023  "
      ]
     },
     "execution_count": 3,
     "metadata": {},
     "output_type": "execute_result"
    }
   ],
   "source": [
    "#duplicate method returns boolean list, named argument keep=False will mark all dups\n",
    "encdf[encdf.duplicated(subset=[\"encounter_id\"], keep=False)]"
   ]
  },
  {
   "cell_type": "markdown",
   "id": "698ff3b9",
   "metadata": {},
   "source": [
    "We caught a duplicate that appears to be identical! Let's clean this up by dropping the last row index 97435, check for duplicates, and check the number of rows. "
   ]
  },
  {
   "cell_type": "code",
   "execution_count": 4,
   "id": "1c452378",
   "metadata": {},
   "outputs": [
    {
     "name": "stdout",
     "output_type": "stream",
     "text": [
      "Empty DataFrame\n",
      "Columns: [encounter_id, admission_date, origin, service_line, loc, drg, discharge_date, patient_zipcode]\n",
      "Index: []\n",
      "new number of rows: 97435\n"
     ]
    }
   ],
   "source": [
    "#drop method \n",
    "encdf2 = encdf.drop([97435])\n",
    "\n",
    "print(encdf2[encdf2.duplicated(subset=[\"encounter_id\"], keep=False)])\n",
    "\n",
    "print(\"new number of rows: \" + str(len(encdf2)))"
   ]
  },
  {
   "cell_type": "markdown",
   "id": "a936b83e",
   "metadata": {},
   "source": [
    "## Check for missing values\n",
    "The columns of \"loc\" and \"drg\" having missing values. It's best to discuss with a data owner if they have more information on why the values are missing. We will not be using these columns for our analysis, and we can ignore for now."
   ]
  },
  {
   "cell_type": "code",
   "execution_count": 5,
   "id": "60c02a75",
   "metadata": {},
   "outputs": [
    {
     "name": "stdout",
     "output_type": "stream",
     "text": [
      "encounter_id       False\n",
      "admission_date     False\n",
      "origin             False\n",
      "service_line       False\n",
      "loc                 True\n",
      "drg                 True\n",
      "discharge_date     False\n",
      "patient_zipcode    False\n",
      "dtype: bool\n"
     ]
    }
   ],
   "source": [
    "print( encdf2.isna().any() )"
   ]
  },
  {
   "cell_type": "code",
   "execution_count": 6,
   "id": "8be5550c",
   "metadata": {},
   "outputs": [
    {
     "name": "stdout",
     "output_type": "stream",
     "text": [
      "Percentage Missing DRG Column: 7.0%\n",
      "Number missing: 6820\n"
     ]
    }
   ],
   "source": [
    "print(\"Percentage Missing DRG Column: \"+ str(round(sum(encdf2['drg'].isna())/len(encdf2['drg'])*100,2)) + \"%\")\n",
    "print(\"Number missing: \" + str(sum(encdf2['drg'].isna())))"
   ]
  },
  {
   "cell_type": "markdown",
   "id": "922c585a",
   "metadata": {},
   "source": [
    "With 7% missing in the DRG column, we will decide to move forward with removing these data points. If missing at random, deleting these data point should not greatly affect our analysis. "
   ]
  },
  {
   "cell_type": "markdown",
   "id": "6685355f",
   "metadata": {},
   "source": [
    "## Calculate new measure called length of stay\n",
    "#### Length of stay at the hosptial is the metric of interest, and calculated by taking the difference between the admission date and discharge date. \n",
    "\n",
    "#### The dates references Excel's origin date January 1, 1900 is day 1. Let's convert to the typical calendar that we use."
   ]
  },
  {
   "cell_type": "code",
   "execution_count": 7,
   "id": "197bede3",
   "metadata": {},
   "outputs": [
    {
     "data": {
      "text/html": [
       "<div>\n",
       "<style scoped>\n",
       "    .dataframe tbody tr th:only-of-type {\n",
       "        vertical-align: middle;\n",
       "    }\n",
       "\n",
       "    .dataframe tbody tr th {\n",
       "        vertical-align: top;\n",
       "    }\n",
       "\n",
       "    .dataframe thead th {\n",
       "        text-align: right;\n",
       "    }\n",
       "</style>\n",
       "<table border=\"1\" class=\"dataframe\">\n",
       "  <thead>\n",
       "    <tr style=\"text-align: right;\">\n",
       "      <th></th>\n",
       "      <th>admission_date</th>\n",
       "      <th>discharge_date</th>\n",
       "    </tr>\n",
       "  </thead>\n",
       "  <tbody>\n",
       "    <tr>\n",
       "      <th>0</th>\n",
       "      <td>44927</td>\n",
       "      <td>44939</td>\n",
       "    </tr>\n",
       "    <tr>\n",
       "      <th>1</th>\n",
       "      <td>44927</td>\n",
       "      <td>44931</td>\n",
       "    </tr>\n",
       "    <tr>\n",
       "      <th>2</th>\n",
       "      <td>44927</td>\n",
       "      <td>44929</td>\n",
       "    </tr>\n",
       "    <tr>\n",
       "      <th>3</th>\n",
       "      <td>44927</td>\n",
       "      <td>44957</td>\n",
       "    </tr>\n",
       "    <tr>\n",
       "      <th>4</th>\n",
       "      <td>44927</td>\n",
       "      <td>44930</td>\n",
       "    </tr>\n",
       "    <tr>\n",
       "      <th>...</th>\n",
       "      <td>...</td>\n",
       "      <td>...</td>\n",
       "    </tr>\n",
       "    <tr>\n",
       "      <th>97430</th>\n",
       "      <td>44926</td>\n",
       "      <td>44927</td>\n",
       "    </tr>\n",
       "    <tr>\n",
       "      <th>97431</th>\n",
       "      <td>44926</td>\n",
       "      <td>44926</td>\n",
       "    </tr>\n",
       "    <tr>\n",
       "      <th>97432</th>\n",
       "      <td>44926</td>\n",
       "      <td>44926</td>\n",
       "    </tr>\n",
       "    <tr>\n",
       "      <th>97433</th>\n",
       "      <td>44926</td>\n",
       "      <td>44926</td>\n",
       "    </tr>\n",
       "    <tr>\n",
       "      <th>97434</th>\n",
       "      <td>44926</td>\n",
       "      <td>44926</td>\n",
       "    </tr>\n",
       "  </tbody>\n",
       "</table>\n",
       "<p>97435 rows × 2 columns</p>\n",
       "</div>"
      ],
      "text/plain": [
       "       admission_date  discharge_date\n",
       "0               44927           44939\n",
       "1               44927           44931\n",
       "2               44927           44929\n",
       "3               44927           44957\n",
       "4               44927           44930\n",
       "...               ...             ...\n",
       "97430           44926           44927\n",
       "97431           44926           44926\n",
       "97432           44926           44926\n",
       "97433           44926           44926\n",
       "97434           44926           44926\n",
       "\n",
       "[97435 rows x 2 columns]"
      ]
     },
     "execution_count": 7,
     "metadata": {},
     "output_type": "execute_result"
    }
   ],
   "source": [
    "encdf2[['admission_date','discharge_date']]"
   ]
  },
  {
   "cell_type": "code",
   "execution_count": 8,
   "id": "07b16792",
   "metadata": {},
   "outputs": [],
   "source": [
    "encdf2['admission_date'] = pd.to_datetime(encdf2['admission_date'], unit='D', origin='1899-12-30')\n",
    "encdf2['discharge_date'] = pd.to_datetime(encdf2['discharge_date'], unit='D', origin='1899-12-30')\n",
    "#The offset in Excel is the number of days since 1900/01/01, with 1 being the first of January 1900,\n",
    "# so add the number of days as a timedelta to 1899/12/30"
   ]
  },
  {
   "cell_type": "code",
   "execution_count": 9,
   "id": "b31bbdc7",
   "metadata": {},
   "outputs": [
    {
     "data": {
      "text/html": [
       "<div>\n",
       "<style scoped>\n",
       "    .dataframe tbody tr th:only-of-type {\n",
       "        vertical-align: middle;\n",
       "    }\n",
       "\n",
       "    .dataframe tbody tr th {\n",
       "        vertical-align: top;\n",
       "    }\n",
       "\n",
       "    .dataframe thead th {\n",
       "        text-align: right;\n",
       "    }\n",
       "</style>\n",
       "<table border=\"1\" class=\"dataframe\">\n",
       "  <thead>\n",
       "    <tr style=\"text-align: right;\">\n",
       "      <th></th>\n",
       "      <th>admission_date</th>\n",
       "      <th>discharge_date</th>\n",
       "    </tr>\n",
       "  </thead>\n",
       "  <tbody>\n",
       "    <tr>\n",
       "      <th>0</th>\n",
       "      <td>2023-01-01</td>\n",
       "      <td>2023-01-13</td>\n",
       "    </tr>\n",
       "    <tr>\n",
       "      <th>1</th>\n",
       "      <td>2023-01-01</td>\n",
       "      <td>2023-01-05</td>\n",
       "    </tr>\n",
       "    <tr>\n",
       "      <th>2</th>\n",
       "      <td>2023-01-01</td>\n",
       "      <td>2023-01-03</td>\n",
       "    </tr>\n",
       "    <tr>\n",
       "      <th>3</th>\n",
       "      <td>2023-01-01</td>\n",
       "      <td>2023-01-31</td>\n",
       "    </tr>\n",
       "    <tr>\n",
       "      <th>4</th>\n",
       "      <td>2023-01-01</td>\n",
       "      <td>2023-01-04</td>\n",
       "    </tr>\n",
       "    <tr>\n",
       "      <th>...</th>\n",
       "      <td>...</td>\n",
       "      <td>...</td>\n",
       "    </tr>\n",
       "    <tr>\n",
       "      <th>97430</th>\n",
       "      <td>2022-12-31</td>\n",
       "      <td>2023-01-01</td>\n",
       "    </tr>\n",
       "    <tr>\n",
       "      <th>97431</th>\n",
       "      <td>2022-12-31</td>\n",
       "      <td>2022-12-31</td>\n",
       "    </tr>\n",
       "    <tr>\n",
       "      <th>97432</th>\n",
       "      <td>2022-12-31</td>\n",
       "      <td>2022-12-31</td>\n",
       "    </tr>\n",
       "    <tr>\n",
       "      <th>97433</th>\n",
       "      <td>2022-12-31</td>\n",
       "      <td>2022-12-31</td>\n",
       "    </tr>\n",
       "    <tr>\n",
       "      <th>97434</th>\n",
       "      <td>2022-12-31</td>\n",
       "      <td>2022-12-31</td>\n",
       "    </tr>\n",
       "  </tbody>\n",
       "</table>\n",
       "<p>97435 rows × 2 columns</p>\n",
       "</div>"
      ],
      "text/plain": [
       "      admission_date discharge_date\n",
       "0         2023-01-01     2023-01-13\n",
       "1         2023-01-01     2023-01-05\n",
       "2         2023-01-01     2023-01-03\n",
       "3         2023-01-01     2023-01-31\n",
       "4         2023-01-01     2023-01-04\n",
       "...              ...            ...\n",
       "97430     2022-12-31     2023-01-01\n",
       "97431     2022-12-31     2022-12-31\n",
       "97432     2022-12-31     2022-12-31\n",
       "97433     2022-12-31     2022-12-31\n",
       "97434     2022-12-31     2022-12-31\n",
       "\n",
       "[97435 rows x 2 columns]"
      ]
     },
     "execution_count": 9,
     "metadata": {},
     "output_type": "execute_result"
    }
   ],
   "source": [
    "encdf2[['admission_date','discharge_date']]"
   ]
  },
  {
   "cell_type": "markdown",
   "id": "6f92154b",
   "metadata": {},
   "source": [
    "### Now, we calculate the length of stay. We will create a new column in the dataframe."
   ]
  },
  {
   "cell_type": "code",
   "execution_count": 11,
   "id": "9c029e2e",
   "metadata": {},
   "outputs": [
    {
     "data": {
      "text/plain": [
       "0        13\n",
       "1         5\n",
       "2         3\n",
       "3        31\n",
       "4         4\n",
       "         ..\n",
       "97430     2\n",
       "97431     1\n",
       "97432     1\n",
       "97433     1\n",
       "97434     1\n",
       "Name: lengthStayPO, Length: 97435, dtype: int64"
      ]
     },
     "execution_count": 11,
     "metadata": {},
     "output_type": "execute_result"
    }
   ],
   "source": [
    "encdf2['lengthStayPO']=(encdf2['discharge_date']-encdf2['admission_date']) + pd.Timedelta(days=1)\n",
    "encdf2['lengthStayPO']=encdf2['lengthStayPO'].dt.days\n",
    "#type(encdf2['lengthStay'])\n",
    "encdf2['lengthStayPO']"
   ]
  },
  {
   "cell_type": "code",
   "execution_count": 12,
   "id": "f0aa4a37-ce96-4f5f-8709-a3f40edb1a9a",
   "metadata": {},
   "outputs": [
    {
     "data": {
      "text/plain": [
       "0        12\n",
       "1         4\n",
       "2         2\n",
       "3        30\n",
       "4         3\n",
       "         ..\n",
       "97430     1\n",
       "97431     0\n",
       "97432     0\n",
       "97433     0\n",
       "97434     0\n",
       "Name: lengthStay, Length: 97435, dtype: int64"
      ]
     },
     "execution_count": 12,
     "metadata": {},
     "output_type": "execute_result"
    }
   ],
   "source": [
    "encdf2['lengthStay']=(encdf2['discharge_date']-encdf2['admission_date'])\n",
    "encdf2['lengthStay']=encdf2['lengthStay'].dt.days\n",
    "#type(encdf2['lengthStay'])\n",
    "encdf2['lengthStay']"
   ]
  },
  {
   "cell_type": "markdown",
   "id": "385449a2",
   "metadata": {},
   "source": [
    "#### The time scales of month, and year are meaningful for us. I'll create two new columns to use for graphs and calculations."
   ]
  },
  {
   "cell_type": "code",
   "execution_count": 18,
   "id": "b5e4c0e7",
   "metadata": {},
   "outputs": [
    {
     "data": {
      "text/html": [
       "<div>\n",
       "<style scoped>\n",
       "    .dataframe tbody tr th:only-of-type {\n",
       "        vertical-align: middle;\n",
       "    }\n",
       "\n",
       "    .dataframe tbody tr th {\n",
       "        vertical-align: top;\n",
       "    }\n",
       "\n",
       "    .dataframe thead th {\n",
       "        text-align: right;\n",
       "    }\n",
       "</style>\n",
       "<table border=\"1\" class=\"dataframe\">\n",
       "  <thead>\n",
       "    <tr style=\"text-align: right;\">\n",
       "      <th></th>\n",
       "      <th>discharge_date</th>\n",
       "      <th>monthDis</th>\n",
       "      <th>yearDis</th>\n",
       "    </tr>\n",
       "  </thead>\n",
       "  <tbody>\n",
       "    <tr>\n",
       "      <th>0</th>\n",
       "      <td>2023-01-13</td>\n",
       "      <td>1</td>\n",
       "      <td>2023</td>\n",
       "    </tr>\n",
       "    <tr>\n",
       "      <th>1</th>\n",
       "      <td>2023-01-05</td>\n",
       "      <td>1</td>\n",
       "      <td>2023</td>\n",
       "    </tr>\n",
       "    <tr>\n",
       "      <th>2</th>\n",
       "      <td>2023-01-03</td>\n",
       "      <td>1</td>\n",
       "      <td>2023</td>\n",
       "    </tr>\n",
       "    <tr>\n",
       "      <th>3</th>\n",
       "      <td>2023-01-31</td>\n",
       "      <td>1</td>\n",
       "      <td>2023</td>\n",
       "    </tr>\n",
       "    <tr>\n",
       "      <th>4</th>\n",
       "      <td>2023-01-04</td>\n",
       "      <td>1</td>\n",
       "      <td>2023</td>\n",
       "    </tr>\n",
       "    <tr>\n",
       "      <th>...</th>\n",
       "      <td>...</td>\n",
       "      <td>...</td>\n",
       "      <td>...</td>\n",
       "    </tr>\n",
       "    <tr>\n",
       "      <th>97430</th>\n",
       "      <td>2023-01-01</td>\n",
       "      <td>1</td>\n",
       "      <td>2023</td>\n",
       "    </tr>\n",
       "    <tr>\n",
       "      <th>97431</th>\n",
       "      <td>2022-12-31</td>\n",
       "      <td>12</td>\n",
       "      <td>2022</td>\n",
       "    </tr>\n",
       "    <tr>\n",
       "      <th>97432</th>\n",
       "      <td>2022-12-31</td>\n",
       "      <td>12</td>\n",
       "      <td>2022</td>\n",
       "    </tr>\n",
       "    <tr>\n",
       "      <th>97433</th>\n",
       "      <td>2022-12-31</td>\n",
       "      <td>12</td>\n",
       "      <td>2022</td>\n",
       "    </tr>\n",
       "    <tr>\n",
       "      <th>97434</th>\n",
       "      <td>2022-12-31</td>\n",
       "      <td>12</td>\n",
       "      <td>2022</td>\n",
       "    </tr>\n",
       "  </tbody>\n",
       "</table>\n",
       "<p>97435 rows × 3 columns</p>\n",
       "</div>"
      ],
      "text/plain": [
       "      discharge_date  monthDis  yearDis\n",
       "0         2023-01-13         1     2023\n",
       "1         2023-01-05         1     2023\n",
       "2         2023-01-03         1     2023\n",
       "3         2023-01-31         1     2023\n",
       "4         2023-01-04         1     2023\n",
       "...              ...       ...      ...\n",
       "97430     2023-01-01         1     2023\n",
       "97431     2022-12-31        12     2022\n",
       "97432     2022-12-31        12     2022\n",
       "97433     2022-12-31        12     2022\n",
       "97434     2022-12-31        12     2022\n",
       "\n",
       "[97435 rows x 3 columns]"
      ]
     },
     "execution_count": 18,
     "metadata": {},
     "output_type": "execute_result"
    }
   ],
   "source": [
    "encdf2['monthDis'] = encdf2['discharge_date'].dt.month\n",
    "encdf2['yearDis'] = encdf2['discharge_date'].dt.year\n",
    "\n",
    "encdf2[['discharge_date','monthDis','yearDis']]\n",
    "\n",
    "# dt Accessor object for datetimelike properties"
   ]
  },
  {
   "cell_type": "markdown",
   "id": "d947438a",
   "metadata": {},
   "source": [
    "## Exploratory Analysis"
   ]
  },
  {
   "cell_type": "markdown",
   "id": "d91b80a1",
   "metadata": {},
   "source": [
    "#### Based on the below histogram, length of stay is typically 0 or patients leave on the same day. "
   ]
  },
  {
   "cell_type": "code",
   "execution_count": 19,
   "id": "83fce1da",
   "metadata": {},
   "outputs": [
    {
     "data": {
      "text/plain": [
       "<AxesSubplot:>"
      ]
     },
     "execution_count": 19,
     "metadata": {},
     "output_type": "execute_result"
    },
    {
     "data": {
      "image/png": "[encoded data removed]",
      "text/plain": [
       "<Figure size 640x480 with 1 Axes>"
      ]
     },
     "metadata": {},
     "output_type": "display_data"
    }
   ],
   "source": [
    "encdf2['lengthStay'].hist(bins=30, edgecolor='black')"
   ]
  },
  {
   "cell_type": "markdown",
   "id": "9267b1e8",
   "metadata": {},
   "source": [
    "####  The vairation here could be explained by service line. We can see from the historgram below with the length of stay by service line that ortho is different."
   ]
  },
  {
   "cell_type": "code",
   "execution_count": 20,
   "id": "5b267541",
   "metadata": {},
   "outputs": [
    {
     "name": "stdout",
     "output_type": "stream",
     "text": [
      "Service Lines:['Internal Med' 'OB Gyn' 'Ortho' 'General Surg']\n",
      " Number of lines: 4\n"
     ]
    }
   ],
   "source": [
    "print(\"Service Lines:\" + str(encdf2['service_line'].unique()))\n",
    "print(\" Number of lines: \" + str(len(encdf2['service_line'].unique())))"
   ]
  },
  {
   "cell_type": "code",
   "execution_count": 21,
   "id": "2badc61a",
   "metadata": {},
   "outputs": [
    {
     "data": {
      "text/plain": [
       "array([[<AxesSubplot:title={'center':'General Surg'}>,\n",
       "        <AxesSubplot:title={'center':'Internal Med'}>],\n",
       "       [<AxesSubplot:title={'center':'OB Gyn'}>,\n",
       "        <AxesSubplot:title={'center':'Ortho'}>]], dtype=object)"
      ]
     },
     "execution_count": 21,
     "metadata": {},
     "output_type": "execute_result"
    },
    {
     "data": {
      "image/png": "[encoded data removed]",
      "text/plain": [
       "<Figure size 640x480 with 4 Axes>"
      ]
     },
     "metadata": {},
     "output_type": "display_data"
    }
   ],
   "source": [
    "encdf2.hist(column=['lengthStay'], by=[\"service_line\"], bins=30, edgecolor='black')"
   ]
  },
  {
   "cell_type": "markdown",
   "id": "5948d2a7",
   "metadata": {},
   "source": [
    "<p> By service line, it appears that internal medicne has a different peak and spread in their distribution of length of stay. Let's stack these distributions in one graph for another visual. </p>"
   ]
  },
  {
   "cell_type": "code",
   "execution_count": 22,
   "id": "bddf9fd7",
   "metadata": {},
   "outputs": [
    {
     "data": {
      "image/png": "[encoded data removed]",
      "text/plain": [
       "<Figure size 640x480 with 1 Axes>"
      ]
     },
     "metadata": {},
     "output_type": "display_data"
    }
   ],
   "source": [
    "import matplotlib.pyplot as plt\n",
    "\n",
    "#define points values by group\n",
    "A = encdf2.loc[encdf2['service_line'] == 'General Surg', 'lengthStay']\n",
    "B = encdf2.loc[encdf2['service_line'] == 'Internal Med', 'lengthStay']\n",
    "C = encdf2.loc[encdf2['service_line'] == 'OB Gyn', 'lengthStay']\n",
    "D = encdf2.loc[encdf2['service_line'] == 'Ortho', 'lengthStay']\n",
    "\n",
    "\n",
    "#add three histograms to one plot\n",
    "plt.hist(A, alpha=0.5, label='General Surg')\n",
    "plt.hist(B, alpha=0.5, label='Internal Med')\n",
    "plt.hist(C, alpha=0.5, label='OB Gyn')\n",
    "plt.hist(D, alpha=0.5, label='Ortho')\n",
    "\n",
    "#add plot title and axis labels\n",
    "plt.title('Distribution by Service Line')\n",
    "plt.xlabel('Length of Stay')\n",
    "plt.ylabel('Frequency')\n",
    "\n",
    "#add legend\n",
    "plt.legend(title='Service Line')\n",
    "\n",
    "#display plot\n",
    "plt.show()\n"
   ]
  },
  {
   "cell_type": "markdown",
   "id": "91a9bc43",
   "metadata": {},
   "source": [
    "<p>Internal Medicine seems to have a shifted histogram compared to the service lines.</p>"
   ]
  },
  {
   "cell_type": "markdown",
   "id": "93aa7c32",
   "metadata": {},
   "source": [
    "## Merge with DRG table\n"
   ]
  },
  {
   "cell_type": "markdown",
   "id": "59b0dcd3",
   "metadata": {},
   "source": [
    "Import the secod table with DRG and benchmarks"
   ]
  },
  {
   "cell_type": "code",
   "execution_count": 25,
   "id": "f932491a",
   "metadata": {},
   "outputs": [
    {
     "name": "stdout",
     "output_type": "stream",
     "text": [
      "   MS_DRG_NUM                                       MS-DRG Title  MDC  \\\n",
      "0           1  HEART TRANSPLANT OR IMPLANT OF HEART ASSIST SY...  PRE   \n",
      "1           2  HEART TRANSPLANT OR IMPLANT OF HEART ASSIST SY...  PRE   \n",
      "2           3  ECMO OR TRACHEOSTOMY WITH MV >96 HOURS OR PRIN...  PRE   \n",
      "3           4  TRACHEOSTOMY WITH MV >96 HOURS OR PRINCIPAL DI...  PRE   \n",
      "4           5  LIVER TRANSPLANT WITH MCC OR INTESTINAL TRANSP...  PRE   \n",
      "\n",
      "  mdc_name  TYPE   weight geometric_mean_los arithmetic_mean_los  \n",
      "0      NaN  SURG  28.1461               29.9                39.3  \n",
      "1      NaN  SURG  13.4731               12.3                14.9  \n",
      "2      NaN  SURG  20.2371               24.7                33.2  \n",
      "3      NaN  SURG  13.7317               24.2                29.2  \n",
      "4      NaN  SURG   11.407                 15                20.6  \n"
     ]
    }
   ],
   "source": [
    "drg = pd.read_excel(\"hospital_encounter_data_10_24AC.xlsx\", sheet_name=1)\n",
    "print(drg.head())"
   ]
  },
  {
   "cell_type": "code",
   "execution_count": 26,
   "id": "010b6b10",
   "metadata": {},
   "outputs": [
    {
     "name": "stdout",
     "output_type": "stream",
     "text": [
      "<class 'pandas.core.frame.DataFrame'>\n",
      "RangeIndex: 767 entries, 0 to 766\n",
      "Data columns (total 8 columns):\n",
      " #   Column               Non-Null Count  Dtype \n",
      "---  ------               --------------  ----- \n",
      " 0   MS_DRG_NUM           767 non-null    int64 \n",
      " 1   MS-DRG Title         767 non-null    object\n",
      " 2   MDC                  767 non-null    object\n",
      " 3   mdc_name             742 non-null    object\n",
      " 4   TYPE                 767 non-null    object\n",
      " 5   weight               767 non-null    object\n",
      " 6   geometric_mean_los   767 non-null    object\n",
      " 7   arithmetic_mean_los  767 non-null    object\n",
      "dtypes: int64(1), object(7)\n",
      "memory usage: 48.1+ KB\n"
     ]
    }
   ],
   "source": [
    "drg.info()"
   ]
  },
  {
   "cell_type": "markdown",
   "id": "546471d7",
   "metadata": {},
   "source": [
    "Let's do a left join with our encounter data as the left table and right table is the DRG table. "
   ]
  },
  {
   "cell_type": "code",
   "execution_count": 29,
   "id": "b971147c",
   "metadata": {},
   "outputs": [],
   "source": [
    "encdf3 = encdf2.merge(drg, left_on='drg', right_on='MS_DRG_NUM', how=\"left\")"
   ]
  },
  {
   "cell_type": "code",
   "execution_count": 30,
   "id": "ec8e0ba0",
   "metadata": {},
   "outputs": [
    {
     "name": "stdout",
     "output_type": "stream",
     "text": [
      "<class 'pandas.core.frame.DataFrame'>\n",
      "Int64Index: 97435 entries, 0 to 97434\n",
      "Data columns (total 22 columns):\n",
      " #   Column               Non-Null Count  Dtype         \n",
      "---  ------               --------------  -----         \n",
      " 0   encounter_id         97435 non-null  object        \n",
      " 1   admission_date       97435 non-null  datetime64[ns]\n",
      " 2   origin               97435 non-null  object        \n",
      " 3   service_line         97435 non-null  object        \n",
      " 4   loc                  94512 non-null  object        \n",
      " 5   drg                  90615 non-null  float64       \n",
      " 6   discharge_date       97435 non-null  datetime64[ns]\n",
      " 7   patient_zipcode      97435 non-null  int64         \n",
      " 8   lengthStayPO         97435 non-null  int64         \n",
      " 9   lengthStay           97435 non-null  int64         \n",
      " 10  monthAdm             97435 non-null  int64         \n",
      " 11  yearAdm              97435 non-null  int64         \n",
      " 12  monthDis             97435 non-null  int64         \n",
      " 13  yearDis              97435 non-null  int64         \n",
      " 14  MS_DRG_NUM           90615 non-null  float64       \n",
      " 15  MS-DRG Title         90615 non-null  object        \n",
      " 16  MDC                  90615 non-null  object        \n",
      " 17  mdc_name             90615 non-null  object        \n",
      " 18  TYPE                 90615 non-null  object        \n",
      " 19  weight               90615 non-null  object        \n",
      " 20  geometric_mean_los   90615 non-null  object        \n",
      " 21  arithmetic_mean_los  90615 non-null  object        \n",
      "dtypes: datetime64[ns](2), float64(2), int64(7), object(11)\n",
      "memory usage: 17.1+ MB\n"
     ]
    }
   ],
   "source": [
    "encdf3.info()"
   ]
  },
  {
   "cell_type": "markdown",
   "id": "dd977b11",
   "metadata": {
    "jp-MarkdownHeadingCollapsed": true
   },
   "source": [
    "##### !!! important note: Dropped 6820 rows due to null values. Total number of rows: 97436-6820=90614"
   ]
  },
  {
   "cell_type": "markdown",
   "id": "450932d3",
   "metadata": {},
   "source": [
    "# Summary table by service line with day cases"
   ]
  },
  {
   "cell_type": "code",
   "execution_count": 33,
   "id": "bdb23ce6",
   "metadata": {},
   "outputs": [
    {
     "data": {
      "text/html": [
       "<div>\n",
       "<style scoped>\n",
       "    .dataframe tbody tr th:only-of-type {\n",
       "        vertical-align: middle;\n",
       "    }\n",
       "\n",
       "    .dataframe tbody tr th {\n",
       "        vertical-align: top;\n",
       "    }\n",
       "\n",
       "    .dataframe thead tr th {\n",
       "        text-align: left;\n",
       "    }\n",
       "\n",
       "    .dataframe thead tr:last-of-type th {\n",
       "        text-align: right;\n",
       "    }\n",
       "</style>\n",
       "<table border=\"1\" class=\"dataframe\">\n",
       "  <thead>\n",
       "    <tr>\n",
       "      <th></th>\n",
       "      <th colspan=\"3\" halign=\"left\">lengthStay</th>\n",
       "      <th>encounter_id</th>\n",
       "    </tr>\n",
       "    <tr>\n",
       "      <th></th>\n",
       "      <th>mean</th>\n",
       "      <th>median</th>\n",
       "      <th>std</th>\n",
       "      <th>size</th>\n",
       "    </tr>\n",
       "    <tr>\n",
       "      <th>service_line</th>\n",
       "      <th></th>\n",
       "      <th></th>\n",
       "      <th></th>\n",
       "      <th></th>\n",
       "    </tr>\n",
       "  </thead>\n",
       "  <tbody>\n",
       "    <tr>\n",
       "      <th>General Surg</th>\n",
       "      <td>0.863548</td>\n",
       "      <td>0.0</td>\n",
       "      <td>2.208031</td>\n",
       "      <td>16438</td>\n",
       "    </tr>\n",
       "    <tr>\n",
       "      <th>Internal Med</th>\n",
       "      <td>4.846789</td>\n",
       "      <td>4.0</td>\n",
       "      <td>4.482390</td>\n",
       "      <td>42719</td>\n",
       "    </tr>\n",
       "    <tr>\n",
       "      <th>OB Gyn</th>\n",
       "      <td>1.120219</td>\n",
       "      <td>1.0</td>\n",
       "      <td>1.341367</td>\n",
       "      <td>22800</td>\n",
       "    </tr>\n",
       "    <tr>\n",
       "      <th>Ortho</th>\n",
       "      <td>0.638196</td>\n",
       "      <td>0.0</td>\n",
       "      <td>1.543701</td>\n",
       "      <td>15478</td>\n",
       "    </tr>\n",
       "  </tbody>\n",
       "</table>\n",
       "</div>"
      ],
      "text/plain": [
       "             lengthStay                  encounter_id\n",
       "                   mean median       std         size\n",
       "service_line                                         \n",
       "General Surg   0.863548    0.0  2.208031        16438\n",
       "Internal Med   4.846789    4.0  4.482390        42719\n",
       "OB Gyn         1.120219    1.0  1.341367        22800\n",
       "Ortho          0.638196    0.0  1.543701        15478"
      ]
     },
     "execution_count": 33,
     "metadata": {},
     "output_type": "execute_result"
    }
   ],
   "source": [
    "encdf3.groupby(\"service_line\").agg({\"lengthStay\": [\"mean\",\"median\",\"std\"],\"encounter_id\": \"size\"})"
   ]
  },
  {
   "cell_type": "markdown",
   "id": "6395a84f",
   "metadata": {},
   "source": [
    "# Summary table by service line without day cases"
   ]
  },
  {
   "cell_type": "code",
   "execution_count": 38,
   "id": "e1bec0fc",
   "metadata": {},
   "outputs": [
    {
     "name": "stdout",
     "output_type": "stream",
     "text": [
      "number of day cases: 35300\n",
      "total number of encounters: 97435\n",
      "36.22928105916765\n"
     ]
    }
   ],
   "source": [
    "encdf_noday = encdf3[encdf3[\"lengthStay\"] != 0]\n",
    "print(\"number of day cases: \"  + str(sum(encdf3[\"lengthStay\"] == 0)) )\n",
    "print(\"total number of encounters: \" + str(len(encdf3)))\n",
    "print(35300/97435*100)"
   ]
  },
  {
   "cell_type": "code",
   "execution_count": 39,
   "id": "384c7360",
   "metadata": {},
   "outputs": [
    {
     "data": {
      "text/html": [
       "<div>\n",
       "<style scoped>\n",
       "    .dataframe tbody tr th:only-of-type {\n",
       "        vertical-align: middle;\n",
       "    }\n",
       "\n",
       "    .dataframe tbody tr th {\n",
       "        vertical-align: top;\n",
       "    }\n",
       "\n",
       "    .dataframe thead tr th {\n",
       "        text-align: left;\n",
       "    }\n",
       "\n",
       "    .dataframe thead tr:last-of-type th {\n",
       "        text-align: right;\n",
       "    }\n",
       "</style>\n",
       "<table border=\"1\" class=\"dataframe\">\n",
       "  <thead>\n",
       "    <tr>\n",
       "      <th></th>\n",
       "      <th colspan=\"3\" halign=\"left\">lengthStay</th>\n",
       "      <th>encounter_id</th>\n",
       "    </tr>\n",
       "    <tr>\n",
       "      <th></th>\n",
       "      <th>mean</th>\n",
       "      <th>median</th>\n",
       "      <th>std</th>\n",
       "      <th>size</th>\n",
       "    </tr>\n",
       "    <tr>\n",
       "      <th>service_line</th>\n",
       "      <th></th>\n",
       "      <th></th>\n",
       "      <th></th>\n",
       "      <th></th>\n",
       "    </tr>\n",
       "  </thead>\n",
       "  <tbody>\n",
       "    <tr>\n",
       "      <th>General Surg</th>\n",
       "      <td>2.888685</td>\n",
       "      <td>2.0</td>\n",
       "      <td>3.234196</td>\n",
       "      <td>4914</td>\n",
       "    </tr>\n",
       "    <tr>\n",
       "      <th>Internal Med</th>\n",
       "      <td>5.005923</td>\n",
       "      <td>4.0</td>\n",
       "      <td>4.467088</td>\n",
       "      <td>41361</td>\n",
       "    </tr>\n",
       "    <tr>\n",
       "      <th>OB Gyn</th>\n",
       "      <td>2.165409</td>\n",
       "      <td>2.0</td>\n",
       "      <td>1.102139</td>\n",
       "      <td>11795</td>\n",
       "    </tr>\n",
       "    <tr>\n",
       "      <th>Ortho</th>\n",
       "      <td>2.430012</td>\n",
       "      <td>2.0</td>\n",
       "      <td>2.172571</td>\n",
       "      <td>4065</td>\n",
       "    </tr>\n",
       "  </tbody>\n",
       "</table>\n",
       "</div>"
      ],
      "text/plain": [
       "             lengthStay                  encounter_id\n",
       "                   mean median       std         size\n",
       "service_line                                         \n",
       "General Surg   2.888685    2.0  3.234196         4914\n",
       "Internal Med   5.005923    4.0  4.467088        41361\n",
       "OB Gyn         2.165409    2.0  1.102139        11795\n",
       "Ortho          2.430012    2.0  2.172571         4065"
      ]
     },
     "execution_count": 39,
     "metadata": {},
     "output_type": "execute_result"
    }
   ],
   "source": [
    "encdf_noday.groupby(\"service_line\").agg({\"lengthStay\": [\"mean\",\"median\",\"std\"],\"encounter_id\": \"size\"})"
   ]
  },
  {
   "cell_type": "markdown",
   "id": "17910b98",
   "metadata": {},
   "source": [
    "# Compare Internal Medicine and General Surgery"
   ]
  },
  {
   "cell_type": "code",
   "execution_count": 40,
   "id": "bec0a46b",
   "metadata": {},
   "outputs": [
    {
     "data": {
      "image/png": "[encoded data removed]",
      "text/plain": [
       "<Figure size 640x480 with 1 Axes>"
      ]
     },
     "metadata": {},
     "output_type": "display_data"
    }
   ],
   "source": [
    "import matplotlib.pyplot as plt\n",
    "\n",
    "#define points values by group\n",
    "A = encdf3.loc[encdf2['service_line'] == 'General Surg', 'lengthStay']\n",
    "B = encdf3.loc[encdf2['service_line'] == 'Internal Med', 'lengthStay']\n",
    "\n",
    "#add three histograms to one plot\n",
    "plt.hist(B, alpha=0.5, label='Internal Med', bins=20)\n",
    "plt.hist(A, alpha=0.5, label='General Surg', bins=20)\n",
    "\n",
    "\n",
    "#add plot title and axis labels\n",
    "plt.title('Distribution by Service Line')\n",
    "plt.xlabel('Length of Stay')\n",
    "plt.ylabel('Frequency')\n",
    "\n",
    "#add legend\n",
    "plt.legend(title='Service Line')\n",
    "\n",
    "#display plot\n",
    "plt.show()"
   ]
  },
  {
   "cell_type": "markdown",
   "id": "e53c4459",
   "metadata": {},
   "source": [
    "<p> Distribution looked different. Many more day cases for general surgery. The day cases are meaningful </p>"
   ]
  },
  {
   "cell_type": "markdown",
   "id": "1cd008bf",
   "metadata": {},
   "source": [
    "# Internal Medicine: Weight vs Expect LOS by DRG"
   ]
  },
  {
   "cell_type": "code",
   "execution_count": 46,
   "id": "891925b3",
   "metadata": {},
   "outputs": [
    {
     "name": "stderr",
     "output_type": "stream",
     "text": [
      "/opt/anaconda3/lib/python3.9/site-packages/pandas/core/arraylike.py:397: RuntimeWarning: divide by zero encountered in log\n",
      "  result = getattr(ufunc, method)(*inputs, **kwargs)\n"
     ]
    }
   ],
   "source": [
    "import numpy as np\n",
    "def g_mean(x):\n",
    "    a = np.log(x)\n",
    "    return np.exp(a.mean())\n",
    "\n",
    "#encdf3[\"PropALOS_ABenchmark\"] = encdf3['lengthStay'] / encdf3['arithmetic_mean_los']\n",
    "encdf3[\"PropGLOS_GBenchmark\"] = encdf3['lengthStay'] / encdf3['geometric_mean_los']\n",
    "\n",
    "im = encdf3[encdf3['service_line'] == 'Internal Med']\n",
    "imagg = im.groupby([\"drg\"]).agg({\"lengthStay\": [\"mean\",\"median\",lambda x: g_mean(x)], \n",
    "                                                     \"encounter_id\": \"size\",\n",
    "                                                     \"PropALOS_ABenchmark\":\"mean\",\n",
    "                                                     \"PropGLOS_GBenchmark\":\"median\",\n",
    "                                                     \"weight\":\"max\", \n",
    "                                                     \"geometric_mean_los\":\"max\",\n",
    "                                                      \"arithmetic_mean_los\":\"max\",\n",
    "                                                      \"drg\":\"min\"})\n"
   ]
  },
  {
   "cell_type": "code",
   "execution_count": 47,
   "id": "5d87f0bb",
   "metadata": {
    "scrolled": true
   },
   "outputs": [
    {
     "data": {
      "image/png": "[encoded data removed]",
      "text/plain": [
       "<Figure size 640x480 with 1 Axes>"
      ]
     },
     "metadata": {},
     "output_type": "display_data"
    }
   ],
   "source": [
    "import matplotlib.pyplot as plt\n",
    "import seaborn as sns\n",
    "\n",
    "# Ensure matplotlib and seaborn styles are set\n",
    "sns.set(style=\"ticks\")\n",
    "\n",
    "# Extracting necessary values from 'imagg' DataFrame\n",
    "# Assuming 'imagg' has MultiIndex due to the aggregation\n",
    "\n",
    "# Create a scatter plot using 'geometric_mean_los' vs 'PropALOS_ABenchmark'\n",
    "plt.scatter(imagg[('weight', 'max')], imagg[('PropGLOS_GBenchmark', 'median')],\n",
    "            color='blue', alpha=0.7)\n",
    "\n",
    "# Annotate each point with the 'drg' value\n",
    "for i, row in imagg.iterrows():\n",
    "    plt.text(row[('weight', 'max')] + 0.01,  # Adjust position of text\n",
    "             row[('PropGLOS_GBenchmark', 'median')] + 0.01,  # Adjust position of text  # Annotation text (drg value)\n",
    "             row['drg','min'],\n",
    "             fontsize=9,  # Text size\n",
    "             color='darkred')\n",
    "\n",
    "# Add labels and title\n",
    "plt.title('Internal Med: Scatter Plot with DRG Annotations', fontsize=16)\n",
    "plt.xlabel('Weight (Over 1: resource intensive)', fontsize=12)\n",
    "plt.ylabel('Benchmark (Over 1: longer than expected)', fontsize=12)\n",
    "\n",
    "# Show the plot\n",
    "plt.tight_layout()  # Make sure everything fits without overlapping\n",
    "plt.show()"
   ]
  },
  {
   "cell_type": "markdown",
   "id": "0179f68b",
   "metadata": {},
   "source": [
    "# General Surgery: Weight vs Expect LOS by DRG"
   ]
  },
  {
   "cell_type": "code",
   "execution_count": 50,
   "id": "da49ae00",
   "metadata": {
    "scrolled": true
   },
   "outputs": [
    {
     "name": "stdout",
     "output_type": "stream",
     "text": [
      "16438\n"
     ]
    },
    {
     "name": "stderr",
     "output_type": "stream",
     "text": [
      "/opt/anaconda3/lib/python3.9/site-packages/pandas/core/arraylike.py:397: RuntimeWarning: divide by zero encountered in log\n",
      "  result = getattr(ufunc, method)(*inputs, **kwargs)\n"
     ]
    }
   ],
   "source": [
    "import numpy as np\n",
    "def g_mean(x):\n",
    "    a = np.log(x)\n",
    "    return np.exp(a.mean())\n",
    "\n",
    "encdf3[\"PropALOS_ABenchmark\"] = encdf3['lengthStay'] / encdf3['arithmetic_mean_los']\n",
    "encdf3[\"PropGLOS_GBenchmark\"] = encdf3['lengthStay'] / encdf3['geometric_mean_los']\n",
    "\n",
    "gs = encdf3[encdf3['service_line'] == 'General Surg']\n",
    "print(len(gs))\n",
    "gsagg = gs.groupby([\"drg\"]).agg({\"lengthStay\": [\"mean\",\"median\",lambda x: g_mean(x)], \n",
    "                                                     \"encounter_id\": \"size\",\n",
    "                                                     \"PropALOS_ABenchmark\":\"mean\",\n",
    "                                                     \"PropGLOS_GBenchmark\":\"mean\",\n",
    "                                                     \"weight\":\"max\", \n",
    "                                                     \"geometric_mean_los\":\"max\",\n",
    "                                                      \"arithmetic_mean_los\":\"max\",\n",
    "                                                      \"drg\":\"min\"}) \n"
   ]
  },
  {
   "cell_type": "code",
   "execution_count": 480,
   "id": "b4aa870c-ea95-468b-9a72-b129e38063e0",
   "metadata": {},
   "outputs": [
    {
     "data": {
      "image/png": "[encoded data removed]",
      "text/plain": [
       "<Figure size 640x480 with 1 Axes>"
      ]
     },
     "metadata": {},
     "output_type": "display_data"
    }
   ],
   "source": [
    "import matplotlib.pyplot as plt\n",
    "import seaborn as sns\n",
    "\n",
    "# Ensure matplotlib and seaborn styles are set\n",
    "sns.set(style=\"ticks\")\n",
    "\n",
    "# Extracting necessary values from 'imagg' DataFrame\n",
    "# Assuming 'imagg' has MultiIndex due to the aggregation\n",
    "\n",
    "# Create a scatter plot using 'geometric_mean_los' vs 'PropALOS_ABenchmark'\n",
    "plt.scatter(gsagg[('weight', 'max')], gsagg[('PropGLOS_GBenchmark', 'mean')],\n",
    "            color='blue', alpha=0.7)\n",
    "\n",
    "# Annotate each point with the 'drg' value\n",
    "for i, row in gsagg.iterrows():\n",
    "    plt.text(row[('weight', 'max')] + 0.01,  # Adjust position of text\n",
    "             row[('PropGLOS_GBenchmark', 'mean')] + 0.01,  # Adjust position of text  # Annotation text (drg value)\n",
    "             row['drg','min'],\n",
    "             fontsize=9,  # Text size\n",
    "             color='darkred')\n",
    "\n",
    "# Add labels and title\n",
    "plt.title('General Sug: Scatter Plot with DRG Annotations', fontsize=16)\n",
    "plt.xlabel('Weight (Over 1: resource intensive)', fontsize=12)\n",
    "plt.ylabel('Benchmark (Over 1: longer than expected)', fontsize=12)\n",
    "\n",
    "# Show the plot\n",
    "plt.tight_layout()  # Make sure everything fits without overlapping\n",
    "plt.show()"
   ]
  },
  {
   "cell_type": "markdown",
   "id": "c83ac90c",
   "metadata": {},
   "source": [
    "# Daily admission rate by service line"
   ]
  },
  {
   "cell_type": "code",
   "execution_count": 53,
   "id": "11c54df8",
   "metadata": {},
   "outputs": [],
   "source": [
    "daily = encdf3.groupby([\"admission_date\",\"service_line\"]).agg({\"encounter_id\": \"size\"})"
   ]
  },
  {
   "cell_type": "code",
   "execution_count": 54,
   "id": "55c1e919",
   "metadata": {},
   "outputs": [
    {
     "data": {
      "text/html": [
       "<div>\n",
       "<style scoped>\n",
       "    .dataframe tbody tr th:only-of-type {\n",
       "        vertical-align: middle;\n",
       "    }\n",
       "\n",
       "    .dataframe tbody tr th {\n",
       "        vertical-align: top;\n",
       "    }\n",
       "\n",
       "    .dataframe thead th {\n",
       "        text-align: right;\n",
       "    }\n",
       "</style>\n",
       "<table border=\"1\" class=\"dataframe\">\n",
       "  <thead>\n",
       "    <tr style=\"text-align: right;\">\n",
       "      <th></th>\n",
       "      <th>encounter_id</th>\n",
       "    </tr>\n",
       "    <tr>\n",
       "      <th>service_line</th>\n",
       "      <th></th>\n",
       "    </tr>\n",
       "  </thead>\n",
       "  <tbody>\n",
       "    <tr>\n",
       "      <th>General Surg</th>\n",
       "      <td>22.958101</td>\n",
       "    </tr>\n",
       "    <tr>\n",
       "      <th>Internal Med</th>\n",
       "      <td>59.663408</td>\n",
       "    </tr>\n",
       "    <tr>\n",
       "      <th>OB Gyn</th>\n",
       "      <td>31.843575</td>\n",
       "    </tr>\n",
       "    <tr>\n",
       "      <th>Ortho</th>\n",
       "      <td>29.996124</td>\n",
       "    </tr>\n",
       "  </tbody>\n",
       "</table>\n",
       "</div>"
      ],
      "text/plain": [
       "              encounter_id\n",
       "service_line              \n",
       "General Surg     22.958101\n",
       "Internal Med     59.663408\n",
       "OB Gyn           31.843575\n",
       "Ortho            29.996124"
      ]
     },
     "execution_count": 54,
     "metadata": {},
     "output_type": "execute_result"
    }
   ],
   "source": [
    "daily.groupby([\"service_line\"]).agg({\"encounter_id\": \"mean\"})"
   ]
  },
  {
   "cell_type": "markdown",
   "id": "440f7c5b",
   "metadata": {},
   "source": [
    "# Why has General Surgery been able to reduce its resource utilization, and what factors are driving this trend?"
   ]
  },
  {
   "cell_type": "code",
   "execution_count": 490,
   "id": "ea7d5ca2-2c15-4433-a870-9f9afdda784f",
   "metadata": {},
   "outputs": [
    {
     "name": "stdout",
     "output_type": "stream",
     "text": [
      "<class 'pandas.core.frame.DataFrame'>\n",
      "MultiIndex: 2664 entries, (Timestamp('2022-01-01 00:00:00'), 'General Surg') to (Timestamp('2023-12-31 00:00:00'), 'OB Gyn')\n",
      "Data columns (total 1 columns):\n",
      " #   Column        Non-Null Count  Dtype\n",
      "---  ------        --------------  -----\n",
      " 0   encounter_id  2664 non-null   int64\n",
      "dtypes: int64(1)\n",
      "memory usage: 34.4+ KB\n"
     ]
    }
   ],
   "source": [
    "daily.info()"
   ]
  },
  {
   "cell_type": "code",
   "execution_count": null,
   "id": "ce394e7b",
   "metadata": {},
   "outputs": [],
   "source": []
  },
  {
   "cell_type": "code",
   "execution_count": 31,
   "id": "1adb855f",
   "metadata": {},
   "outputs": [],
   "source": [
    "daily = encdf3.groupby([\"admission_date\",\"service_line\"]).agg({\"encounter_id\": \"size\"})"
   ]
  }
 ],
 "metadata": {
  "kernelspec": {
   "display_name": "Python 3 (ipykernel)",
   "language": "python",
   "name": "python3"
  },
  "language_info": {
   "codemirror_mode": {
    "name": "ipython",
    "version": 3
   },
   "file_extension": ".py",
   "mimetype": "text/x-python",
   "name": "python",
   "nbconvert_exporter": "python",
   "pygments_lexer": "ipython3",
   "version": "3.9.13"
  }
 },
 "nbformat": 4,
 "nbformat_minor": 5
}
